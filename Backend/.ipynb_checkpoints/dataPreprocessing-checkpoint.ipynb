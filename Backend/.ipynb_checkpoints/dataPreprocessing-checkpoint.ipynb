{
 "cells": [
  {
   "cell_type": "markdown",
   "id": "8d4368b3-ba6b-4599-abda-bbb95a4810f6",
   "metadata": {},
   "source": [
    "## Data Classification"
   ]
  },
  {
   "cell_type": "markdown",
   "id": "774721d2-f05d-43ef-8db4-1d8e2e664085",
   "metadata": {},
   "source": [
    "#  ZIP file Extraction"
   ]
  },
  {
   "cell_type": "code",
   "execution_count": null,
   "id": "c01b3f56-d418-4e30-b3a1-f2ae82d86010",
   "metadata": {},
   "outputs": [],
   "source": [
    "import tarfile\n",
    "import os\n",
    "\n",
    "tar_files_dir = 'folder-1'\n",
    "\n",
    "parent_extracted_dir = 'folder-1'\n",
    "\n",
    "if not os.path.exists(parent_extracted_dir):\n",
    "    os.makedirs(parent_extracted_dir)\n",
    "\n",
    "for filename in os.listdir(tar_files_dir):\n",
    "    file_path = os.path.join(tar_files_dir, filename)\n",
    "\n",
    "    if os.path.isfile(file_path) and tarfile.is_tarfile(file_path):\n",
    "        tar_filename = os.path.splitext(filename)[0] \n",
    "        extracted_dir = os.path.join(parent_extracted_dir, tar_filename)\n",
    "\n",
    "        os.makedirs(extracted_dir, exist_ok=True)\n",
    "\n",
    "        try:\n",
    "            with tarfile.open(file_path, 'r:gz') as tar: \n",
    "                tar.extractall(path=extracted_dir)\n",
    "\n",
    "            print(f'Tar file \"{file_path}\" has been extracted to \"{extracted_dir}\"')\n",
    "\n",
    "            os.remove(file_path)\n",
    "\n",
    "        except tarfile.ReadError as e:\n",
    "            print(f'Error extracting \"{file_path}\": {e}. Skipping...')\n",
    "        except PermissionError as e:\n",
    "            print(f'Permission error for \"{file_path}\": {e}. Skipping...')\n",
    "        except EOFError as e:\n",
    "            print(f'EOFError for \"{file_path}\": {e}. The file might be corrupted or incomplete. Skipping...')\n",
    "    else:\n",
    "        print(f'Skipping non-tar file or directory: \"{file_path}\"')\n"
   ]
  },
  {
   "cell_type": "markdown",
   "id": "aa93597b-00e2-45b5-a448-f4b89ed5ec47",
   "metadata": {},
   "source": [
    "# 1. .txt"
   ]
  },
  {
   "cell_type": "code",
   "execution_count": 3,
   "id": "c65b3613-6fc8-4c47-8e8e-381e61a1de32",
   "metadata": {},
   "outputs": [
    {
     "name": "stdout",
     "output_type": "stream",
     "text": [
      "['folder-1\\\\235434251_RAW_PAN_LOG.txt', 'folder-1\\\\3.121-CVE_to_be_installed.txt', 'folder-1\\\\3.205-CVE_to_be_installed.txt', 'folder-1\\\\3.207-CVE_to_be_installed.txt', 'folder-1\\\\BAND_RPC.txt', 'folder-1\\\\import CSV.txt', 'folder-1\\\\SR159360_ddn_showall_20210222-13_54_51.tar\\\\SR159360_ddn_showall_20210222-13_54_51\\\\ioserver1-bond0\\\\gpfs\\\\gpfs_any_mmafmctl.txt', 'folder-1\\\\SR159360_ddn_showall_20210222-13_54_51.tar\\\\SR159360_ddn_showall_20210222-13_54_51\\\\ioserver1-bond0\\\\gpfs\\\\gpfs_any_mmdf.txt', 'folder-1\\\\SR159360_ddn_showall_20210222-13_54_51.tar\\\\SR159360_ddn_showall_20210222-13_54_51\\\\ioserver1-bond0\\\\gpfs\\\\gpfs_any_mmlsdisk.txt', 'folder-1\\\\SR159360_ddn_showall_20210222-13_54_51.tar\\\\SR159360_ddn_showall_20210222-13_54_51\\\\ioserver1-bond0\\\\gpfs\\\\gpfs_any_mmlspolicy.txt', 'folder-1\\\\SR159360_ddn_showall_20210222-13_54_51.tar\\\\SR159360_ddn_showall_20210222-13_54_51\\\\ioserver1-bond0\\\\gpfs\\\\gpfs_any_mmlssnapshot.txt', 'folder-1\\\\SR159360_ddn_showall_20210222-13_54_51.tar\\\\SR159360_ddn_showall_20210222-13_54_51\\\\ioserver1-bond0\\\\gpfs\\\\mmauth_show_all.txt', 'folder-1\\\\SR159360_ddn_showall_20210222-13_54_51.tar\\\\SR159360_ddn_showall_20210222-13_54_51\\\\ioserver1-bond0\\\\gpfs\\\\mmdiag_commands.txt', 'folder-1\\\\SR159360_ddn_showall_20210222-13_54_51.tar\\\\SR159360_ddn_showall_20210222-13_54_51\\\\ioserver1-bond0\\\\gpfs\\\\mmdiag_config.txt', 'folder-1\\\\SR159360_ddn_showall_20210222-13_54_51.tar\\\\SR159360_ddn_showall_20210222-13_54_51\\\\ioserver1-bond0\\\\gpfs\\\\mmdiag_deadlock.txt', 'folder-1\\\\SR159360_ddn_showall_20210222-13_54_51.tar\\\\SR159360_ddn_showall_20210222-13_54_51\\\\ioserver1-bond0\\\\gpfs\\\\mmdiag_iohist.txt', 'folder-1\\\\SR159360_ddn_showall_20210222-13_54_51.tar\\\\SR159360_ddn_showall_20210222-13_54_51\\\\ioserver1-bond0\\\\gpfs\\\\mmdiag_memory.txt', 'folder-1\\\\SR159360_ddn_showall_20210222-13_54_51.tar\\\\SR159360_ddn_showall_20210222-13_54_51\\\\ioserver1-bond0\\\\gpfs\\\\mmdiag_mmdiag_version.txt', 'folder-1\\\\SR159360_ddn_showall_20210222-13_54_51.tar\\\\SR159360_ddn_showall_20210222-13_54_51\\\\ioserver1-bond0\\\\gpfs\\\\mmdiag_mmdiag_waiters.txt', 'folder-1\\\\SR159360_ddn_showall_20210222-13_54_51.tar\\\\SR159360_ddn_showall_20210222-13_54_51\\\\ioserver1-bond0\\\\gpfs\\\\mmdiag_network.txt', 'folder-1\\\\SR159360_ddn_showall_20210222-13_54_51.tar\\\\SR159360_ddn_showall_20210222-13_54_51\\\\ioserver1-bond0\\\\gpfs\\\\mmdiag_stats.txt', 'folder-1\\\\SR159360_ddn_showall_20210222-13_54_51.tar\\\\SR159360_ddn_showall_20210222-13_54_51\\\\ioserver1-bond0\\\\gpfs\\\\mmdiag_tokenmgr.txt', 'folder-1\\\\SR159360_ddn_showall_20210222-13_54_51.tar\\\\SR159360_ddn_showall_20210222-13_54_51\\\\ioserver1-bond0\\\\gpfs\\\\mmfsadm_dump_fs.txt', 'folder-1\\\\SR159360_ddn_showall_20210222-13_54_51.tar\\\\SR159360_ddn_showall_20210222-13_54_51\\\\ioserver1-bond0\\\\gpfs\\\\mmfsadm_dump_nsd.txt', 'folder-1\\\\SR159360_ddn_showall_20210222-13_54_51.tar\\\\SR159360_ddn_showall_20210222-13_54_51\\\\ioserver1-bond0\\\\gpfs\\\\mmfsadm_dump_verbs.txt', 'folder-1\\\\SR159360_ddn_showall_20210222-13_54_51.tar\\\\SR159360_ddn_showall_20210222-13_54_51\\\\ioserver1-bond0\\\\gpfs\\\\mmfsadm_test_verbs_config.txt', 'folder-1\\\\SR159360_ddn_showall_20210222-13_54_51.tar\\\\SR159360_ddn_showall_20210222-13_54_51\\\\ioserver1-bond0\\\\gpfs\\\\mmfsadm_test_verbs_status.txt', 'folder-1\\\\SR159360_ddn_showall_20210222-13_54_51.tar\\\\SR159360_ddn_showall_20210222-13_54_51\\\\ioserver1-bond0\\\\gpfs\\\\mmfsadm_verbs_conn.txt', 'folder-1\\\\SR159360_ddn_showall_20210222-13_54_51.tar\\\\SR159360_ddn_showall_20210222-13_54_51\\\\ioserver1-bond0\\\\gpfs\\\\mmgetstate_als_cnfs.txt', 'folder-1\\\\SR159360_ddn_showall_20210222-13_54_51.tar\\\\SR159360_ddn_showall_20210222-13_54_51\\\\ioserver1-bond0\\\\gpfs\\\\mmlscluster.txt', 'folder-1\\\\SR159360_ddn_showall_20210222-13_54_51.tar\\\\SR159360_ddn_showall_20210222-13_54_51\\\\ioserver1-bond0\\\\gpfs\\\\mmlsconfig.txt', 'folder-1\\\\SR159360_ddn_showall_20210222-13_54_51.tar\\\\SR159360_ddn_showall_20210222-13_54_51\\\\ioserver1-bond0\\\\gpfs\\\\mmlsdisk_m.txt', 'folder-1\\\\SR159360_ddn_showall_20210222-13_54_51.tar\\\\SR159360_ddn_showall_20210222-13_54_51\\\\ioserver1-bond0\\\\gpfs\\\\mmlsfs_all.txt', 'folder-1\\\\SR159360_ddn_showall_20210222-13_54_51.tar\\\\SR159360_ddn_showall_20210222-13_54_51\\\\ioserver1-bond0\\\\gpfs\\\\mmlslicense.txt', 'folder-1\\\\SR159360_ddn_showall_20210222-13_54_51.tar\\\\SR159360_ddn_showall_20210222-13_54_51\\\\ioserver1-bond0\\\\gpfs\\\\mmlsmgr.txt', 'folder-1\\\\SR159360_ddn_showall_20210222-13_54_51.tar\\\\SR159360_ddn_showall_20210222-13_54_51\\\\ioserver1-bond0\\\\gpfs\\\\mmlsmount_all_l.txt', 'folder-1\\\\SR159360_ddn_showall_20210222-13_54_51.tar\\\\SR159360_ddn_showall_20210222-13_54_51\\\\ioserver1-bond0\\\\gpfs\\\\mmlsnsd_l.txt', 'folder-1\\\\SR159360_ddn_showall_20210222-13_54_51.tar\\\\SR159360_ddn_showall_20210222-13_54_51\\\\ioserver1-bond0\\\\gpfs\\\\mmlsnsd_m.txt', 'folder-1\\\\SR159360_ddn_showall_20210222-13_54_51.tar\\\\SR159360_ddn_showall_20210222-13_54_51\\\\ioserver1-bond0\\\\gpfs\\\\mmnfsmonitor_status.txt', 'folder-1\\\\SR159360_ddn_showall_20210222-13_54_51.tar\\\\SR159360_ddn_showall_20210222-13_54_51\\\\ioserver1-bond0\\\\gpfs\\\\mmremotecluster_show_all.txt', 'folder-1\\\\SR159360_ddn_showall_20210222-13_54_51.tar\\\\SR159360_ddn_showall_20210222-13_54_51\\\\ioserver1-bond0\\\\gpfs\\\\rpm_qi_gpfs_base.txt', 'folder-1\\\\SR159360_ddn_showall_20210222-13_54_51.tar\\\\SR159360_ddn_showall_20210222-13_54_51\\\\ioserver1-bond0\\\\gpfs\\\\.ipynb_checkpoints\\\\gpfs_any_mmafmctl-checkpoint.txt', 'folder-1\\\\SR159360_ddn_showall_20210222-13_54_51.tar\\\\SR159360_ddn_showall_20210222-13_54_51\\\\ioserver1-bond0\\\\gpfs\\\\.ipynb_checkpoints\\\\gpfs_any_mmdf-checkpoint.txt', 'folder-1\\\\SR159360_ddn_showall_20210222-13_54_51.tar\\\\SR159360_ddn_showall_20210222-13_54_51\\\\ioserver1-bond0\\\\infiniband\\\\ibnetdiscover.txt', 'folder-1\\\\SR159360_ddn_showall_20210222-13_54_51.tar\\\\SR159360_ddn_showall_20210222-13_54_51\\\\ioserver1-bond0\\\\infiniband\\\\ibstat.txt', 'folder-1\\\\SR159360_ddn_showall_20210222-13_54_51.tar\\\\SR159360_ddn_showall_20210222-13_54_51\\\\ioserver1-bond0\\\\infiniband\\\\ibstatus.txt', 'folder-1\\\\SR159360_ddn_showall_20210222-13_54_51.tar\\\\SR159360_ddn_showall_20210222-13_54_51\\\\ioserver1-bond0\\\\infiniband\\\\ibv_devices.txt', 'folder-1\\\\SR159360_ddn_showall_20210222-13_54_51.tar\\\\SR159360_ddn_showall_20210222-13_54_51\\\\ioserver1-bond0\\\\infiniband\\\\ibv_devinfo.txt', 'folder-1\\\\SR159360_ddn_showall_20210222-13_54_51.tar\\\\SR159360_ddn_showall_20210222-13_54_51\\\\ioserver1-bond0\\\\infiniband\\\\perfquery.txt', 'folder-1\\\\SR159360_ddn_showall_20210222-13_54_51.tar\\\\SR159360_ddn_showall_20210222-13_54_51\\\\ioserver1-bond0\\\\infiniband\\\\sminfo.txt', 'folder-1\\\\SR159360_ddn_showall_20210222-13_54_51.tar\\\\SR159360_ddn_showall_20210222-13_54_51\\\\ioserver1-bond0\\\\network\\\\ethtool.txt', 'folder-1\\\\SR159360_ddn_showall_20210222-13_54_51.tar\\\\SR159360_ddn_showall_20210222-13_54_51\\\\ioserver1-bond0\\\\network\\\\ethtool_a.txt', 'folder-1\\\\SR159360_ddn_showall_20210222-13_54_51.tar\\\\SR159360_ddn_showall_20210222-13_54_51\\\\ioserver1-bond0\\\\network\\\\ethtool_k.txt', 'folder-1\\\\SR159360_ddn_showall_20210222-13_54_51.tar\\\\SR159360_ddn_showall_20210222-13_54_51\\\\ioserver1-bond0\\\\network\\\\ethtool_s.txt', 'folder-1\\\\SR159360_ddn_showall_20210222-13_54_51.tar\\\\SR159360_ddn_showall_20210222-13_54_51\\\\ioserver1-bond0\\\\network\\\\iptables_save.txt', 'folder-1\\\\SR159360_ddn_showall_20210222-13_54_51.tar\\\\SR159360_ddn_showall_20210222-13_54_51\\\\ioserver1-bond0\\\\network\\\\ip_a.txt', 'folder-1\\\\SR159360_ddn_showall_20210222-13_54_51.tar\\\\SR159360_ddn_showall_20210222-13_54_51\\\\ioserver1-bond0\\\\network\\\\netdev_queues.txt', 'folder-1\\\\SR159360_ddn_showall_20210222-13_54_51.tar\\\\SR159360_ddn_showall_20210222-13_54_51\\\\ioserver1-bond0\\\\network\\\\netdev_statistics.txt', 'folder-1\\\\SR159360_ddn_showall_20210222-13_54_51.tar\\\\SR159360_ddn_showall_20210222-13_54_51\\\\ioserver1-bond0\\\\network\\\\netstat_a.txt', 'folder-1\\\\SR159360_ddn_showall_20210222-13_54_51.tar\\\\SR159360_ddn_showall_20210222-13_54_51\\\\ioserver1-bond0\\\\network\\\\netstat_in.txt', 'folder-1\\\\SR159360_ddn_showall_20210222-13_54_51.tar\\\\SR159360_ddn_showall_20210222-13_54_51\\\\ioserver1-bond0\\\\network\\\\netstat_rn.txt', 'folder-1\\\\SR159360_ddn_showall_20210222-13_54_51.tar\\\\SR159360_ddn_showall_20210222-13_54_51\\\\ioserver1-bond0\\\\network\\\\netstat_s.txt', 'folder-1\\\\SR159360_ddn_showall_20210222-13_54_51.tar\\\\SR159360_ddn_showall_20210222-13_54_51\\\\ioserver1-bond0\\\\nfs\\\\exportfs_v.txt', 'folder-1\\\\SR159360_ddn_showall_20210222-13_54_51.tar\\\\SR159360_ddn_showall_20210222-13_54_51\\\\ioserver1-bond0\\\\nfs\\\\modinfo_nfsd.txt', 'folder-1\\\\SR159360_ddn_showall_20210222-13_54_51.tar\\\\SR159360_ddn_showall_20210222-13_54_51\\\\ioserver1-bond0\\\\nfs\\\\proc_fs_nfsd_max_block_size.txt', 'folder-1\\\\SR159360_ddn_showall_20210222-13_54_51.tar\\\\SR159360_ddn_showall_20210222-13_54_51\\\\ioserver1-bond0\\\\nfs\\\\proc_net_rpc_nfsd.txt', 'folder-1\\\\SR159360_ddn_showall_20210222-13_54_51.tar\\\\SR159360_ddn_showall_20210222-13_54_51\\\\ioserver1-bond0\\\\nfs\\\\showmount_e.txt', 'folder-1\\\\SR159360_ddn_showall_20210222-13_54_51.tar\\\\SR159360_ddn_showall_20210222-13_54_51\\\\ioserver1-bond0\\\\opa\\\\opahfirev.txt', 'folder-1\\\\SR159360_ddn_showall_20210222-13_54_51.tar\\\\SR159360_ddn_showall_20210222-13_54_51\\\\ioserver1-bond0\\\\opa\\\\opareport.txt', 'folder-1\\\\SR159360_ddn_showall_20210222-13_54_51.tar\\\\SR159360_ddn_showall_20210222-13_54_51\\\\ioserver1-bond0\\\\opa\\\\opa_first_switch_hwvpd.txt', 'folder-1\\\\SR159360_ddn_showall_20210222-13_54_51.tar\\\\SR159360_ddn_showall_20210222-13_54_51\\\\ioserver1-bond0\\\\opa\\\\opa_first_switch_info.txt', 'folder-1\\\\SR159360_ddn_showall_20210222-13_54_51.tar\\\\SR159360_ddn_showall_20210222-13_54_51\\\\ioserver1-bond0\\\\opa\\\\opa_hfi1_eprom_v_b.txt', 'folder-1\\\\SR159360_ddn_showall_20210222-13_54_51.tar\\\\SR159360_ddn_showall_20210222-13_54_51\\\\ioserver1-bond0\\\\opa\\\\opa_hfi1_eprom_v_o.txt', 'folder-1\\\\SR159360_ddn_showall_20210222-13_54_51.tar\\\\SR159360_ddn_showall_20210222-13_54_51\\\\ioserver1-bond0\\\\opa\\\\opa_info.txt', 'folder-1\\\\SR159360_ddn_showall_20210222-13_54_51.tar\\\\SR159360_ddn_showall_20210222-13_54_51\\\\ioserver1-bond0\\\\opa\\\\opa_info_info.txt', 'folder-1\\\\SR159360_ddn_showall_20210222-13_54_51.tar\\\\SR159360_ddn_showall_20210222-13_54_51\\\\ioserver1-bond0\\\\opa\\\\opa_info_stats.txt', 'folder-1\\\\SR159360_ddn_showall_20210222-13_54_51.tar\\\\SR159360_ddn_showall_20210222-13_54_51\\\\ioserver1-bond0\\\\opa\\\\opa_osd_dump.txt', 'folder-1\\\\SR159360_ddn_showall_20210222-13_54_51.tar\\\\SR159360_ddn_showall_20210222-13_54_51\\\\ioserver1-bond0\\\\storage\\\\blockdev_info.txt', 'folder-1\\\\SR159360_ddn_showall_20210222-13_54_51.tar\\\\SR159360_ddn_showall_20210222-13_54_51\\\\ioserver1-bond0\\\\storage\\\\dev_mapper.txt', 'folder-1\\\\SR159360_ddn_showall_20210222-13_54_51.tar\\\\SR159360_ddn_showall_20210222-13_54_51\\\\ioserver1-bond0\\\\storage\\\\dev_sfa.txt', 'folder-1\\\\SR159360_ddn_showall_20210222-13_54_51.tar\\\\SR159360_ddn_showall_20210222-13_54_51\\\\ioserver1-bond0\\\\storage\\\\fdisk.txt', 'folder-1\\\\SR159360_ddn_showall_20210222-13_54_51.tar\\\\SR159360_ddn_showall_20210222-13_54_51\\\\ioserver1-bond0\\\\storage\\\\iostat.txt', 'folder-1\\\\SR159360_ddn_showall_20210222-13_54_51.tar\\\\SR159360_ddn_showall_20210222-13_54_51\\\\ioserver1-bond0\\\\storage\\\\lsblk.txt', 'folder-1\\\\SR159360_ddn_showall_20210222-13_54_51.tar\\\\SR159360_ddn_showall_20210222-13_54_51\\\\ioserver1-bond0\\\\storage\\\\lspci_vv.txt', 'folder-1\\\\SR159360_ddn_showall_20210222-13_54_51.tar\\\\SR159360_ddn_showall_20210222-13_54_51\\\\ioserver1-bond0\\\\storage\\\\lsscsi_l.txt', 'folder-1\\\\SR159360_ddn_showall_20210222-13_54_51.tar\\\\SR159360_ddn_showall_20210222-13_54_51\\\\ioserver1-bond0\\\\storage\\\\multipath_ll.txt', 'folder-1\\\\SR159360_ddn_showall_20210222-13_54_51.tar\\\\SR159360_ddn_showall_20210222-13_54_51\\\\ioserver1-bond0\\\\storage\\\\srp_sg_tablesize.txt', 'folder-1\\\\SR159360_ddn_showall_20210222-13_54_51.tar\\\\SR159360_ddn_showall_20210222-13_54_51\\\\ioserver2-bond0\\\\gpfs\\\\mmdiag_commands.txt', 'folder-1\\\\SR159360_ddn_showall_20210222-13_54_51.tar\\\\SR159360_ddn_showall_20210222-13_54_51\\\\ioserver2-bond0\\\\gpfs\\\\mmdiag_deadlock.txt', 'folder-1\\\\SR159360_ddn_showall_20210222-13_54_51.tar\\\\SR159360_ddn_showall_20210222-13_54_51\\\\ioserver2-bond0\\\\gpfs\\\\mmdiag_iohist.txt', 'folder-1\\\\SR159360_ddn_showall_20210222-13_54_51.tar\\\\SR159360_ddn_showall_20210222-13_54_51\\\\ioserver2-bond0\\\\gpfs\\\\mmdiag_memory.txt', 'folder-1\\\\SR159360_ddn_showall_20210222-13_54_51.tar\\\\SR159360_ddn_showall_20210222-13_54_51\\\\ioserver2-bond0\\\\gpfs\\\\mmdiag_mmdiag_version.txt', 'folder-1\\\\SR159360_ddn_showall_20210222-13_54_51.tar\\\\SR159360_ddn_showall_20210222-13_54_51\\\\ioserver2-bond0\\\\gpfs\\\\mmdiag_mmdiag_waiters.txt', 'folder-1\\\\SR159360_ddn_showall_20210222-13_54_51.tar\\\\SR159360_ddn_showall_20210222-13_54_51\\\\ioserver2-bond0\\\\gpfs\\\\mmdiag_network.txt', 'folder-1\\\\SR159360_ddn_showall_20210222-13_54_51.tar\\\\SR159360_ddn_showall_20210222-13_54_51\\\\ioserver2-bond0\\\\gpfs\\\\mmdiag_stats.txt', 'folder-1\\\\SR159360_ddn_showall_20210222-13_54_51.tar\\\\SR159360_ddn_showall_20210222-13_54_51\\\\ioserver2-bond0\\\\gpfs\\\\mmdiag_tokenmgr.txt', 'folder-1\\\\SR159360_ddn_showall_20210222-13_54_51.tar\\\\SR159360_ddn_showall_20210222-13_54_51\\\\ioserver2-bond0\\\\gpfs\\\\mmfsadm_dump_fs.txt', 'folder-1\\\\SR159360_ddn_showall_20210222-13_54_51.tar\\\\SR159360_ddn_showall_20210222-13_54_51\\\\ioserver2-bond0\\\\gpfs\\\\mmfsadm_dump_nsd.txt', 'folder-1\\\\SR159360_ddn_showall_20210222-13_54_51.tar\\\\SR159360_ddn_showall_20210222-13_54_51\\\\ioserver2-bond0\\\\gpfs\\\\mmfsadm_dump_verbs.txt', 'folder-1\\\\SR159360_ddn_showall_20210222-13_54_51.tar\\\\SR159360_ddn_showall_20210222-13_54_51\\\\ioserver2-bond0\\\\gpfs\\\\mmfsadm_test_verbs_config.txt', 'folder-1\\\\SR159360_ddn_showall_20210222-13_54_51.tar\\\\SR159360_ddn_showall_20210222-13_54_51\\\\ioserver2-bond0\\\\gpfs\\\\mmfsadm_test_verbs_status.txt', 'folder-1\\\\SR159360_ddn_showall_20210222-13_54_51.tar\\\\SR159360_ddn_showall_20210222-13_54_51\\\\ioserver2-bond0\\\\gpfs\\\\mmfsadm_verbs_conn.txt', 'folder-1\\\\SR159360_ddn_showall_20210222-13_54_51.tar\\\\SR159360_ddn_showall_20210222-13_54_51\\\\ioserver2-bond0\\\\gpfs\\\\mmlsdisk_m.txt', 'folder-1\\\\SR159360_ddn_showall_20210222-13_54_51.tar\\\\SR159360_ddn_showall_20210222-13_54_51\\\\ioserver2-bond0\\\\gpfs\\\\mmlslicense.txt', 'folder-1\\\\SR159360_ddn_showall_20210222-13_54_51.tar\\\\SR159360_ddn_showall_20210222-13_54_51\\\\ioserver2-bond0\\\\gpfs\\\\mmlsnsd_l.txt', 'folder-1\\\\SR159360_ddn_showall_20210222-13_54_51.tar\\\\SR159360_ddn_showall_20210222-13_54_51\\\\ioserver2-bond0\\\\gpfs\\\\rpm_qi_gpfs_base.txt', 'folder-1\\\\SR159360_ddn_showall_20210222-13_54_51.tar\\\\SR159360_ddn_showall_20210222-13_54_51\\\\ioserver2-bond0\\\\infiniband\\\\ibnetdiscover.txt', 'folder-1\\\\SR159360_ddn_showall_20210222-13_54_51.tar\\\\SR159360_ddn_showall_20210222-13_54_51\\\\ioserver2-bond0\\\\infiniband\\\\ibstat.txt', 'folder-1\\\\SR159360_ddn_showall_20210222-13_54_51.tar\\\\SR159360_ddn_showall_20210222-13_54_51\\\\ioserver2-bond0\\\\infiniband\\\\ibstatus.txt', 'folder-1\\\\SR159360_ddn_showall_20210222-13_54_51.tar\\\\SR159360_ddn_showall_20210222-13_54_51\\\\ioserver2-bond0\\\\infiniband\\\\ibv_devices.txt', 'folder-1\\\\SR159360_ddn_showall_20210222-13_54_51.tar\\\\SR159360_ddn_showall_20210222-13_54_51\\\\ioserver2-bond0\\\\infiniband\\\\ibv_devinfo.txt', 'folder-1\\\\SR159360_ddn_showall_20210222-13_54_51.tar\\\\SR159360_ddn_showall_20210222-13_54_51\\\\ioserver2-bond0\\\\infiniband\\\\perfquery.txt', 'folder-1\\\\SR159360_ddn_showall_20210222-13_54_51.tar\\\\SR159360_ddn_showall_20210222-13_54_51\\\\ioserver2-bond0\\\\infiniband\\\\sminfo.txt', 'folder-1\\\\SR159360_ddn_showall_20210222-13_54_51.tar\\\\SR159360_ddn_showall_20210222-13_54_51\\\\ioserver2-bond0\\\\network\\\\ethtool.txt', 'folder-1\\\\SR159360_ddn_showall_20210222-13_54_51.tar\\\\SR159360_ddn_showall_20210222-13_54_51\\\\ioserver2-bond0\\\\network\\\\ethtool_a.txt', 'folder-1\\\\SR159360_ddn_showall_20210222-13_54_51.tar\\\\SR159360_ddn_showall_20210222-13_54_51\\\\ioserver2-bond0\\\\network\\\\ethtool_k.txt', 'folder-1\\\\SR159360_ddn_showall_20210222-13_54_51.tar\\\\SR159360_ddn_showall_20210222-13_54_51\\\\ioserver2-bond0\\\\network\\\\ethtool_s.txt', 'folder-1\\\\SR159360_ddn_showall_20210222-13_54_51.tar\\\\SR159360_ddn_showall_20210222-13_54_51\\\\ioserver2-bond0\\\\network\\\\iptables_save.txt', 'folder-1\\\\SR159360_ddn_showall_20210222-13_54_51.tar\\\\SR159360_ddn_showall_20210222-13_54_51\\\\ioserver2-bond0\\\\network\\\\ip_a.txt', 'folder-1\\\\SR159360_ddn_showall_20210222-13_54_51.tar\\\\SR159360_ddn_showall_20210222-13_54_51\\\\ioserver2-bond0\\\\network\\\\netdev_queues.txt', 'folder-1\\\\SR159360_ddn_showall_20210222-13_54_51.tar\\\\SR159360_ddn_showall_20210222-13_54_51\\\\ioserver2-bond0\\\\network\\\\netdev_statistics.txt', 'folder-1\\\\SR159360_ddn_showall_20210222-13_54_51.tar\\\\SR159360_ddn_showall_20210222-13_54_51\\\\ioserver2-bond0\\\\network\\\\netstat_a.txt', 'folder-1\\\\SR159360_ddn_showall_20210222-13_54_51.tar\\\\SR159360_ddn_showall_20210222-13_54_51\\\\ioserver2-bond0\\\\network\\\\netstat_in.txt', 'folder-1\\\\SR159360_ddn_showall_20210222-13_54_51.tar\\\\SR159360_ddn_showall_20210222-13_54_51\\\\ioserver2-bond0\\\\network\\\\netstat_rn.txt', 'folder-1\\\\SR159360_ddn_showall_20210222-13_54_51.tar\\\\SR159360_ddn_showall_20210222-13_54_51\\\\ioserver2-bond0\\\\network\\\\netstat_s.txt', 'folder-1\\\\SR159360_ddn_showall_20210222-13_54_51.tar\\\\SR159360_ddn_showall_20210222-13_54_51\\\\ioserver2-bond0\\\\nfs\\\\exportfs_v.txt', 'folder-1\\\\SR159360_ddn_showall_20210222-13_54_51.tar\\\\SR159360_ddn_showall_20210222-13_54_51\\\\ioserver2-bond0\\\\nfs\\\\modinfo_nfsd.txt', 'folder-1\\\\SR159360_ddn_showall_20210222-13_54_51.tar\\\\SR159360_ddn_showall_20210222-13_54_51\\\\ioserver2-bond0\\\\nfs\\\\proc_fs_nfsd_max_block_size.txt', 'folder-1\\\\SR159360_ddn_showall_20210222-13_54_51.tar\\\\SR159360_ddn_showall_20210222-13_54_51\\\\ioserver2-bond0\\\\nfs\\\\proc_net_rpc_nfsd.txt', 'folder-1\\\\SR159360_ddn_showall_20210222-13_54_51.tar\\\\SR159360_ddn_showall_20210222-13_54_51\\\\ioserver2-bond0\\\\nfs\\\\showmount_e.txt', 'folder-1\\\\SR159360_ddn_showall_20210222-13_54_51.tar\\\\SR159360_ddn_showall_20210222-13_54_51\\\\ioserver2-bond0\\\\opa\\\\opahfirev.txt', 'folder-1\\\\SR159360_ddn_showall_20210222-13_54_51.tar\\\\SR159360_ddn_showall_20210222-13_54_51\\\\ioserver2-bond0\\\\opa\\\\opareport.txt', 'folder-1\\\\SR159360_ddn_showall_20210222-13_54_51.tar\\\\SR159360_ddn_showall_20210222-13_54_51\\\\ioserver2-bond0\\\\opa\\\\opa_hfi1_eprom_v_b.txt', 'folder-1\\\\SR159360_ddn_showall_20210222-13_54_51.tar\\\\SR159360_ddn_showall_20210222-13_54_51\\\\ioserver2-bond0\\\\opa\\\\opa_hfi1_eprom_v_o.txt', 'folder-1\\\\SR159360_ddn_showall_20210222-13_54_51.tar\\\\SR159360_ddn_showall_20210222-13_54_51\\\\ioserver2-bond0\\\\opa\\\\opa_info.txt', 'folder-1\\\\SR159360_ddn_showall_20210222-13_54_51.tar\\\\SR159360_ddn_showall_20210222-13_54_51\\\\ioserver2-bond0\\\\opa\\\\opa_info_info.txt', 'folder-1\\\\SR159360_ddn_showall_20210222-13_54_51.tar\\\\SR159360_ddn_showall_20210222-13_54_51\\\\ioserver2-bond0\\\\opa\\\\opa_info_stats.txt', 'folder-1\\\\SR159360_ddn_showall_20210222-13_54_51.tar\\\\SR159360_ddn_showall_20210222-13_54_51\\\\ioserver2-bond0\\\\opa\\\\opa_osd_dump.txt', 'folder-1\\\\SR159360_ddn_showall_20210222-13_54_51.tar\\\\SR159360_ddn_showall_20210222-13_54_51\\\\ioserver2-bond0\\\\storage\\\\blockdev_info.txt', 'folder-1\\\\SR159360_ddn_showall_20210222-13_54_51.tar\\\\SR159360_ddn_showall_20210222-13_54_51\\\\ioserver2-bond0\\\\storage\\\\dev_mapper.txt', 'folder-1\\\\SR159360_ddn_showall_20210222-13_54_51.tar\\\\SR159360_ddn_showall_20210222-13_54_51\\\\ioserver2-bond0\\\\storage\\\\dev_sfa.txt', 'folder-1\\\\SR159360_ddn_showall_20210222-13_54_51.tar\\\\SR159360_ddn_showall_20210222-13_54_51\\\\ioserver2-bond0\\\\storage\\\\fdisk.txt', 'folder-1\\\\SR159360_ddn_showall_20210222-13_54_51.tar\\\\SR159360_ddn_showall_20210222-13_54_51\\\\ioserver2-bond0\\\\storage\\\\iostat.txt', 'folder-1\\\\SR159360_ddn_showall_20210222-13_54_51.tar\\\\SR159360_ddn_showall_20210222-13_54_51\\\\ioserver2-bond0\\\\storage\\\\lsblk.txt', 'folder-1\\\\SR159360_ddn_showall_20210222-13_54_51.tar\\\\SR159360_ddn_showall_20210222-13_54_51\\\\ioserver2-bond0\\\\storage\\\\lspci_vv.txt', 'folder-1\\\\SR159360_ddn_showall_20210222-13_54_51.tar\\\\SR159360_ddn_showall_20210222-13_54_51\\\\ioserver2-bond0\\\\storage\\\\lsscsi_l.txt', 'folder-1\\\\SR159360_ddn_showall_20210222-13_54_51.tar\\\\SR159360_ddn_showall_20210222-13_54_51\\\\ioserver2-bond0\\\\storage\\\\multipath_ll.txt', 'folder-1\\\\SR159360_ddn_showall_20210222-13_54_51.tar\\\\SR159360_ddn_showall_20210222-13_54_51\\\\ioserver2-bond0\\\\storage\\\\srp_sg_tablesize.txt', 'folder-1\\\\SR159360_ddn_showall_20210222-13_54_51.tar\\\\SR159360_ddn_showall_20210222-13_54_51\\\\ioserver3-bond0\\\\gpfs\\\\mmdiag_commands.txt', 'folder-1\\\\SR159360_ddn_showall_20210222-13_54_51.tar\\\\SR159360_ddn_showall_20210222-13_54_51\\\\ioserver3-bond0\\\\gpfs\\\\mmdiag_deadlock.txt', 'folder-1\\\\SR159360_ddn_showall_20210222-13_54_51.tar\\\\SR159360_ddn_showall_20210222-13_54_51\\\\ioserver3-bond0\\\\gpfs\\\\mmdiag_iohist.txt', 'folder-1\\\\SR159360_ddn_showall_20210222-13_54_51.tar\\\\SR159360_ddn_showall_20210222-13_54_51\\\\ioserver3-bond0\\\\gpfs\\\\mmdiag_memory.txt', 'folder-1\\\\SR159360_ddn_showall_20210222-13_54_51.tar\\\\SR159360_ddn_showall_20210222-13_54_51\\\\ioserver3-bond0\\\\gpfs\\\\mmdiag_mmdiag_version.txt', 'folder-1\\\\SR159360_ddn_showall_20210222-13_54_51.tar\\\\SR159360_ddn_showall_20210222-13_54_51\\\\ioserver3-bond0\\\\gpfs\\\\mmdiag_mmdiag_waiters.txt', 'folder-1\\\\SR159360_ddn_showall_20210222-13_54_51.tar\\\\SR159360_ddn_showall_20210222-13_54_51\\\\ioserver3-bond0\\\\gpfs\\\\mmdiag_network.txt', 'folder-1\\\\SR159360_ddn_showall_20210222-13_54_51.tar\\\\SR159360_ddn_showall_20210222-13_54_51\\\\ioserver3-bond0\\\\gpfs\\\\mmdiag_stats.txt', 'folder-1\\\\SR159360_ddn_showall_20210222-13_54_51.tar\\\\SR159360_ddn_showall_20210222-13_54_51\\\\ioserver3-bond0\\\\gpfs\\\\mmdiag_tokenmgr.txt', 'folder-1\\\\SR159360_ddn_showall_20210222-13_54_51.tar\\\\SR159360_ddn_showall_20210222-13_54_51\\\\ioserver3-bond0\\\\gpfs\\\\mmfsadm_dump_fs.txt', 'folder-1\\\\SR159360_ddn_showall_20210222-13_54_51.tar\\\\SR159360_ddn_showall_20210222-13_54_51\\\\ioserver3-bond0\\\\gpfs\\\\mmfsadm_dump_nsd.txt', 'folder-1\\\\SR159360_ddn_showall_20210222-13_54_51.tar\\\\SR159360_ddn_showall_20210222-13_54_51\\\\ioserver3-bond0\\\\gpfs\\\\mmfsadm_dump_verbs.txt', 'folder-1\\\\SR159360_ddn_showall_20210222-13_54_51.tar\\\\SR159360_ddn_showall_20210222-13_54_51\\\\ioserver3-bond0\\\\gpfs\\\\mmfsadm_test_verbs_config.txt', 'folder-1\\\\SR159360_ddn_showall_20210222-13_54_51.tar\\\\SR159360_ddn_showall_20210222-13_54_51\\\\ioserver3-bond0\\\\gpfs\\\\mmfsadm_test_verbs_status.txt', 'folder-1\\\\SR159360_ddn_showall_20210222-13_54_51.tar\\\\SR159360_ddn_showall_20210222-13_54_51\\\\ioserver3-bond0\\\\gpfs\\\\mmfsadm_verbs_conn.txt', 'folder-1\\\\SR159360_ddn_showall_20210222-13_54_51.tar\\\\SR159360_ddn_showall_20210222-13_54_51\\\\ioserver3-bond0\\\\gpfs\\\\mmlsdisk_m.txt', 'folder-1\\\\SR159360_ddn_showall_20210222-13_54_51.tar\\\\SR159360_ddn_showall_20210222-13_54_51\\\\ioserver3-bond0\\\\gpfs\\\\mmlslicense.txt', 'folder-1\\\\SR159360_ddn_showall_20210222-13_54_51.tar\\\\SR159360_ddn_showall_20210222-13_54_51\\\\ioserver3-bond0\\\\gpfs\\\\mmlsnsd_l.txt', 'folder-1\\\\SR159360_ddn_showall_20210222-13_54_51.tar\\\\SR159360_ddn_showall_20210222-13_54_51\\\\ioserver3-bond0\\\\gpfs\\\\rpm_qi_gpfs_base.txt', 'folder-1\\\\SR159360_ddn_showall_20210222-13_54_51.tar\\\\SR159360_ddn_showall_20210222-13_54_51\\\\ioserver3-bond0\\\\infiniband\\\\ibnetdiscover.txt', 'folder-1\\\\SR159360_ddn_showall_20210222-13_54_51.tar\\\\SR159360_ddn_showall_20210222-13_54_51\\\\ioserver3-bond0\\\\infiniband\\\\ibstat.txt', 'folder-1\\\\SR159360_ddn_showall_20210222-13_54_51.tar\\\\SR159360_ddn_showall_20210222-13_54_51\\\\ioserver3-bond0\\\\infiniband\\\\ibstatus.txt', 'folder-1\\\\SR159360_ddn_showall_20210222-13_54_51.tar\\\\SR159360_ddn_showall_20210222-13_54_51\\\\ioserver3-bond0\\\\infiniband\\\\ibv_devices.txt', 'folder-1\\\\SR159360_ddn_showall_20210222-13_54_51.tar\\\\SR159360_ddn_showall_20210222-13_54_51\\\\ioserver3-bond0\\\\infiniband\\\\ibv_devinfo.txt', 'folder-1\\\\SR159360_ddn_showall_20210222-13_54_51.tar\\\\SR159360_ddn_showall_20210222-13_54_51\\\\ioserver3-bond0\\\\infiniband\\\\perfquery.txt', 'folder-1\\\\SR159360_ddn_showall_20210222-13_54_51.tar\\\\SR159360_ddn_showall_20210222-13_54_51\\\\ioserver3-bond0\\\\infiniband\\\\sminfo.txt', 'folder-1\\\\SR159360_ddn_showall_20210222-13_54_51.tar\\\\SR159360_ddn_showall_20210222-13_54_51\\\\ioserver3-bond0\\\\network\\\\ethtool.txt', 'folder-1\\\\SR159360_ddn_showall_20210222-13_54_51.tar\\\\SR159360_ddn_showall_20210222-13_54_51\\\\ioserver3-bond0\\\\network\\\\ethtool_a.txt', 'folder-1\\\\SR159360_ddn_showall_20210222-13_54_51.tar\\\\SR159360_ddn_showall_20210222-13_54_51\\\\ioserver3-bond0\\\\network\\\\ethtool_k.txt', 'folder-1\\\\SR159360_ddn_showall_20210222-13_54_51.tar\\\\SR159360_ddn_showall_20210222-13_54_51\\\\ioserver3-bond0\\\\network\\\\ethtool_s.txt', 'folder-1\\\\SR159360_ddn_showall_20210222-13_54_51.tar\\\\SR159360_ddn_showall_20210222-13_54_51\\\\ioserver3-bond0\\\\network\\\\iptables_save.txt', 'folder-1\\\\SR159360_ddn_showall_20210222-13_54_51.tar\\\\SR159360_ddn_showall_20210222-13_54_51\\\\ioserver3-bond0\\\\network\\\\ip_a.txt', 'folder-1\\\\SR159360_ddn_showall_20210222-13_54_51.tar\\\\SR159360_ddn_showall_20210222-13_54_51\\\\ioserver3-bond0\\\\network\\\\netdev_queues.txt', 'folder-1\\\\SR159360_ddn_showall_20210222-13_54_51.tar\\\\SR159360_ddn_showall_20210222-13_54_51\\\\ioserver3-bond0\\\\network\\\\netdev_statistics.txt', 'folder-1\\\\SR159360_ddn_showall_20210222-13_54_51.tar\\\\SR159360_ddn_showall_20210222-13_54_51\\\\ioserver3-bond0\\\\network\\\\netstat_a.txt', 'folder-1\\\\SR159360_ddn_showall_20210222-13_54_51.tar\\\\SR159360_ddn_showall_20210222-13_54_51\\\\ioserver3-bond0\\\\network\\\\netstat_in.txt', 'folder-1\\\\SR159360_ddn_showall_20210222-13_54_51.tar\\\\SR159360_ddn_showall_20210222-13_54_51\\\\ioserver3-bond0\\\\network\\\\netstat_rn.txt', 'folder-1\\\\SR159360_ddn_showall_20210222-13_54_51.tar\\\\SR159360_ddn_showall_20210222-13_54_51\\\\ioserver3-bond0\\\\network\\\\netstat_s.txt', 'folder-1\\\\SR159360_ddn_showall_20210222-13_54_51.tar\\\\SR159360_ddn_showall_20210222-13_54_51\\\\ioserver3-bond0\\\\nfs\\\\exportfs_v.txt', 'folder-1\\\\SR159360_ddn_showall_20210222-13_54_51.tar\\\\SR159360_ddn_showall_20210222-13_54_51\\\\ioserver3-bond0\\\\nfs\\\\modinfo_nfsd.txt', 'folder-1\\\\SR159360_ddn_showall_20210222-13_54_51.tar\\\\SR159360_ddn_showall_20210222-13_54_51\\\\ioserver3-bond0\\\\nfs\\\\proc_fs_nfsd_max_block_size.txt', 'folder-1\\\\SR159360_ddn_showall_20210222-13_54_51.tar\\\\SR159360_ddn_showall_20210222-13_54_51\\\\ioserver3-bond0\\\\nfs\\\\proc_net_rpc_nfsd.txt', 'folder-1\\\\SR159360_ddn_showall_20210222-13_54_51.tar\\\\SR159360_ddn_showall_20210222-13_54_51\\\\ioserver3-bond0\\\\nfs\\\\showmount_e.txt', 'folder-1\\\\SR159360_ddn_showall_20210222-13_54_51.tar\\\\SR159360_ddn_showall_20210222-13_54_51\\\\ioserver3-bond0\\\\opa\\\\opahfirev.txt', 'folder-1\\\\SR159360_ddn_showall_20210222-13_54_51.tar\\\\SR159360_ddn_showall_20210222-13_54_51\\\\ioserver3-bond0\\\\opa\\\\opareport.txt', 'folder-1\\\\SR159360_ddn_showall_20210222-13_54_51.tar\\\\SR159360_ddn_showall_20210222-13_54_51\\\\ioserver3-bond0\\\\opa\\\\opa_hfi1_eprom_v_b.txt', 'folder-1\\\\SR159360_ddn_showall_20210222-13_54_51.tar\\\\SR159360_ddn_showall_20210222-13_54_51\\\\ioserver3-bond0\\\\opa\\\\opa_hfi1_eprom_v_o.txt', 'folder-1\\\\SR159360_ddn_showall_20210222-13_54_51.tar\\\\SR159360_ddn_showall_20210222-13_54_51\\\\ioserver3-bond0\\\\opa\\\\opa_info.txt', 'folder-1\\\\SR159360_ddn_showall_20210222-13_54_51.tar\\\\SR159360_ddn_showall_20210222-13_54_51\\\\ioserver3-bond0\\\\opa\\\\opa_info_info.txt', 'folder-1\\\\SR159360_ddn_showall_20210222-13_54_51.tar\\\\SR159360_ddn_showall_20210222-13_54_51\\\\ioserver3-bond0\\\\opa\\\\opa_info_stats.txt', 'folder-1\\\\SR159360_ddn_showall_20210222-13_54_51.tar\\\\SR159360_ddn_showall_20210222-13_54_51\\\\ioserver3-bond0\\\\opa\\\\opa_osd_dump.txt', 'folder-1\\\\SR159360_ddn_showall_20210222-13_54_51.tar\\\\SR159360_ddn_showall_20210222-13_54_51\\\\ioserver3-bond0\\\\storage\\\\blockdev_info.txt', 'folder-1\\\\SR159360_ddn_showall_20210222-13_54_51.tar\\\\SR159360_ddn_showall_20210222-13_54_51\\\\ioserver3-bond0\\\\storage\\\\dev_mapper.txt', 'folder-1\\\\SR159360_ddn_showall_20210222-13_54_51.tar\\\\SR159360_ddn_showall_20210222-13_54_51\\\\ioserver3-bond0\\\\storage\\\\dev_sfa.txt', 'folder-1\\\\SR159360_ddn_showall_20210222-13_54_51.tar\\\\SR159360_ddn_showall_20210222-13_54_51\\\\ioserver3-bond0\\\\storage\\\\fdisk.txt', 'folder-1\\\\SR159360_ddn_showall_20210222-13_54_51.tar\\\\SR159360_ddn_showall_20210222-13_54_51\\\\ioserver3-bond0\\\\storage\\\\iostat.txt', 'folder-1\\\\SR159360_ddn_showall_20210222-13_54_51.tar\\\\SR159360_ddn_showall_20210222-13_54_51\\\\ioserver3-bond0\\\\storage\\\\lsblk.txt', 'folder-1\\\\SR159360_ddn_showall_20210222-13_54_51.tar\\\\SR159360_ddn_showall_20210222-13_54_51\\\\ioserver3-bond0\\\\storage\\\\lspci_vv.txt', 'folder-1\\\\SR159360_ddn_showall_20210222-13_54_51.tar\\\\SR159360_ddn_showall_20210222-13_54_51\\\\ioserver3-bond0\\\\storage\\\\lsscsi_l.txt', 'folder-1\\\\SR159360_ddn_showall_20210222-13_54_51.tar\\\\SR159360_ddn_showall_20210222-13_54_51\\\\ioserver3-bond0\\\\storage\\\\multipath_ll.txt', 'folder-1\\\\SR159360_ddn_showall_20210222-13_54_51.tar\\\\SR159360_ddn_showall_20210222-13_54_51\\\\ioserver3-bond0\\\\storage\\\\srp_sg_tablesize.txt', 'folder-1\\\\SR159360_ddn_showall_20210222-13_54_51.tar\\\\SR159360_ddn_showall_20210222-13_54_51\\\\ioserver4-bond0\\\\gpfs\\\\mmdiag_commands.txt', 'folder-1\\\\SR159360_ddn_showall_20210222-13_54_51.tar\\\\SR159360_ddn_showall_20210222-13_54_51\\\\ioserver4-bond0\\\\gpfs\\\\mmdiag_deadlock.txt', 'folder-1\\\\SR159360_ddn_showall_20210222-13_54_51.tar\\\\SR159360_ddn_showall_20210222-13_54_51\\\\ioserver4-bond0\\\\gpfs\\\\mmdiag_iohist.txt', 'folder-1\\\\SR159360_ddn_showall_20210222-13_54_51.tar\\\\SR159360_ddn_showall_20210222-13_54_51\\\\ioserver4-bond0\\\\gpfs\\\\mmdiag_memory.txt', 'folder-1\\\\SR159360_ddn_showall_20210222-13_54_51.tar\\\\SR159360_ddn_showall_20210222-13_54_51\\\\ioserver4-bond0\\\\gpfs\\\\mmdiag_mmdiag_version.txt', 'folder-1\\\\SR159360_ddn_showall_20210222-13_54_51.tar\\\\SR159360_ddn_showall_20210222-13_54_51\\\\ioserver4-bond0\\\\gpfs\\\\mmdiag_mmdiag_waiters.txt', 'folder-1\\\\SR159360_ddn_showall_20210222-13_54_51.tar\\\\SR159360_ddn_showall_20210222-13_54_51\\\\ioserver4-bond0\\\\gpfs\\\\mmdiag_network.txt', 'folder-1\\\\SR159360_ddn_showall_20210222-13_54_51.tar\\\\SR159360_ddn_showall_20210222-13_54_51\\\\ioserver4-bond0\\\\gpfs\\\\mmdiag_stats.txt', 'folder-1\\\\SR159360_ddn_showall_20210222-13_54_51.tar\\\\SR159360_ddn_showall_20210222-13_54_51\\\\ioserver4-bond0\\\\gpfs\\\\mmdiag_tokenmgr.txt', 'folder-1\\\\SR159360_ddn_showall_20210222-13_54_51.tar\\\\SR159360_ddn_showall_20210222-13_54_51\\\\ioserver4-bond0\\\\gpfs\\\\mmfsadm_dump_fs.txt', 'folder-1\\\\SR159360_ddn_showall_20210222-13_54_51.tar\\\\SR159360_ddn_showall_20210222-13_54_51\\\\ioserver4-bond0\\\\gpfs\\\\mmfsadm_dump_nsd.txt', 'folder-1\\\\SR159360_ddn_showall_20210222-13_54_51.tar\\\\SR159360_ddn_showall_20210222-13_54_51\\\\ioserver4-bond0\\\\gpfs\\\\mmfsadm_dump_verbs.txt', 'folder-1\\\\SR159360_ddn_showall_20210222-13_54_51.tar\\\\SR159360_ddn_showall_20210222-13_54_51\\\\ioserver4-bond0\\\\gpfs\\\\mmfsadm_test_verbs_config.txt', 'folder-1\\\\SR159360_ddn_showall_20210222-13_54_51.tar\\\\SR159360_ddn_showall_20210222-13_54_51\\\\ioserver4-bond0\\\\gpfs\\\\mmfsadm_test_verbs_status.txt', 'folder-1\\\\SR159360_ddn_showall_20210222-13_54_51.tar\\\\SR159360_ddn_showall_20210222-13_54_51\\\\ioserver4-bond0\\\\gpfs\\\\mmfsadm_verbs_conn.txt', 'folder-1\\\\SR159360_ddn_showall_20210222-13_54_51.tar\\\\SR159360_ddn_showall_20210222-13_54_51\\\\ioserver4-bond0\\\\gpfs\\\\mmlsdisk_m.txt', 'folder-1\\\\SR159360_ddn_showall_20210222-13_54_51.tar\\\\SR159360_ddn_showall_20210222-13_54_51\\\\ioserver4-bond0\\\\gpfs\\\\mmlslicense.txt', 'folder-1\\\\SR159360_ddn_showall_20210222-13_54_51.tar\\\\SR159360_ddn_showall_20210222-13_54_51\\\\ioserver4-bond0\\\\gpfs\\\\mmlsnsd_l.txt', 'folder-1\\\\SR159360_ddn_showall_20210222-13_54_51.tar\\\\SR159360_ddn_showall_20210222-13_54_51\\\\ioserver4-bond0\\\\gpfs\\\\rpm_qi_gpfs_base.txt', 'folder-1\\\\SR159360_ddn_showall_20210222-13_54_51.tar\\\\SR159360_ddn_showall_20210222-13_54_51\\\\ioserver4-bond0\\\\infiniband\\\\ibnetdiscover.txt', 'folder-1\\\\SR159360_ddn_showall_20210222-13_54_51.tar\\\\SR159360_ddn_showall_20210222-13_54_51\\\\ioserver4-bond0\\\\infiniband\\\\ibstat.txt', 'folder-1\\\\SR159360_ddn_showall_20210222-13_54_51.tar\\\\SR159360_ddn_showall_20210222-13_54_51\\\\ioserver4-bond0\\\\infiniband\\\\ibstatus.txt', 'folder-1\\\\SR159360_ddn_showall_20210222-13_54_51.tar\\\\SR159360_ddn_showall_20210222-13_54_51\\\\ioserver4-bond0\\\\infiniband\\\\ibv_devices.txt', 'folder-1\\\\SR159360_ddn_showall_20210222-13_54_51.tar\\\\SR159360_ddn_showall_20210222-13_54_51\\\\ioserver4-bond0\\\\infiniband\\\\ibv_devinfo.txt', 'folder-1\\\\SR159360_ddn_showall_20210222-13_54_51.tar\\\\SR159360_ddn_showall_20210222-13_54_51\\\\ioserver4-bond0\\\\infiniband\\\\perfquery.txt', 'folder-1\\\\SR159360_ddn_showall_20210222-13_54_51.tar\\\\SR159360_ddn_showall_20210222-13_54_51\\\\ioserver4-bond0\\\\infiniband\\\\sminfo.txt', 'folder-1\\\\SR159360_ddn_showall_20210222-13_54_51.tar\\\\SR159360_ddn_showall_20210222-13_54_51\\\\ioserver4-bond0\\\\network\\\\ethtool.txt', 'folder-1\\\\SR159360_ddn_showall_20210222-13_54_51.tar\\\\SR159360_ddn_showall_20210222-13_54_51\\\\ioserver4-bond0\\\\network\\\\ethtool_a.txt', 'folder-1\\\\SR159360_ddn_showall_20210222-13_54_51.tar\\\\SR159360_ddn_showall_20210222-13_54_51\\\\ioserver4-bond0\\\\network\\\\ethtool_k.txt', 'folder-1\\\\SR159360_ddn_showall_20210222-13_54_51.tar\\\\SR159360_ddn_showall_20210222-13_54_51\\\\ioserver4-bond0\\\\network\\\\ethtool_s.txt', 'folder-1\\\\SR159360_ddn_showall_20210222-13_54_51.tar\\\\SR159360_ddn_showall_20210222-13_54_51\\\\ioserver4-bond0\\\\network\\\\iptables_save.txt', 'folder-1\\\\SR159360_ddn_showall_20210222-13_54_51.tar\\\\SR159360_ddn_showall_20210222-13_54_51\\\\ioserver4-bond0\\\\network\\\\ip_a.txt', 'folder-1\\\\SR159360_ddn_showall_20210222-13_54_51.tar\\\\SR159360_ddn_showall_20210222-13_54_51\\\\ioserver4-bond0\\\\network\\\\netdev_queues.txt', 'folder-1\\\\SR159360_ddn_showall_20210222-13_54_51.tar\\\\SR159360_ddn_showall_20210222-13_54_51\\\\ioserver4-bond0\\\\network\\\\netdev_statistics.txt', 'folder-1\\\\SR159360_ddn_showall_20210222-13_54_51.tar\\\\SR159360_ddn_showall_20210222-13_54_51\\\\ioserver4-bond0\\\\network\\\\netstat_a.txt', 'folder-1\\\\SR159360_ddn_showall_20210222-13_54_51.tar\\\\SR159360_ddn_showall_20210222-13_54_51\\\\ioserver4-bond0\\\\network\\\\netstat_in.txt', 'folder-1\\\\SR159360_ddn_showall_20210222-13_54_51.tar\\\\SR159360_ddn_showall_20210222-13_54_51\\\\ioserver4-bond0\\\\network\\\\netstat_rn.txt', 'folder-1\\\\SR159360_ddn_showall_20210222-13_54_51.tar\\\\SR159360_ddn_showall_20210222-13_54_51\\\\ioserver4-bond0\\\\network\\\\netstat_s.txt', 'folder-1\\\\SR159360_ddn_showall_20210222-13_54_51.tar\\\\SR159360_ddn_showall_20210222-13_54_51\\\\ioserver4-bond0\\\\nfs\\\\exportfs_v.txt', 'folder-1\\\\SR159360_ddn_showall_20210222-13_54_51.tar\\\\SR159360_ddn_showall_20210222-13_54_51\\\\ioserver4-bond0\\\\nfs\\\\modinfo_nfsd.txt', 'folder-1\\\\SR159360_ddn_showall_20210222-13_54_51.tar\\\\SR159360_ddn_showall_20210222-13_54_51\\\\ioserver4-bond0\\\\nfs\\\\proc_fs_nfsd_max_block_size.txt', 'folder-1\\\\SR159360_ddn_showall_20210222-13_54_51.tar\\\\SR159360_ddn_showall_20210222-13_54_51\\\\ioserver4-bond0\\\\nfs\\\\proc_net_rpc_nfsd.txt', 'folder-1\\\\SR159360_ddn_showall_20210222-13_54_51.tar\\\\SR159360_ddn_showall_20210222-13_54_51\\\\ioserver4-bond0\\\\nfs\\\\showmount_e.txt', 'folder-1\\\\SR159360_ddn_showall_20210222-13_54_51.tar\\\\SR159360_ddn_showall_20210222-13_54_51\\\\ioserver4-bond0\\\\opa\\\\opahfirev.txt', 'folder-1\\\\SR159360_ddn_showall_20210222-13_54_51.tar\\\\SR159360_ddn_showall_20210222-13_54_51\\\\ioserver4-bond0\\\\opa\\\\opareport.txt', 'folder-1\\\\SR159360_ddn_showall_20210222-13_54_51.tar\\\\SR159360_ddn_showall_20210222-13_54_51\\\\ioserver4-bond0\\\\opa\\\\opa_hfi1_eprom_v_b.txt', 'folder-1\\\\SR159360_ddn_showall_20210222-13_54_51.tar\\\\SR159360_ddn_showall_20210222-13_54_51\\\\ioserver4-bond0\\\\opa\\\\opa_hfi1_eprom_v_o.txt', 'folder-1\\\\SR159360_ddn_showall_20210222-13_54_51.tar\\\\SR159360_ddn_showall_20210222-13_54_51\\\\ioserver4-bond0\\\\opa\\\\opa_info.txt', 'folder-1\\\\SR159360_ddn_showall_20210222-13_54_51.tar\\\\SR159360_ddn_showall_20210222-13_54_51\\\\ioserver4-bond0\\\\opa\\\\opa_info_info.txt', 'folder-1\\\\SR159360_ddn_showall_20210222-13_54_51.tar\\\\SR159360_ddn_showall_20210222-13_54_51\\\\ioserver4-bond0\\\\opa\\\\opa_info_stats.txt', 'folder-1\\\\SR159360_ddn_showall_20210222-13_54_51.tar\\\\SR159360_ddn_showall_20210222-13_54_51\\\\ioserver4-bond0\\\\opa\\\\opa_osd_dump.txt', 'folder-1\\\\SR159360_ddn_showall_20210222-13_54_51.tar\\\\SR159360_ddn_showall_20210222-13_54_51\\\\ioserver4-bond0\\\\storage\\\\blockdev_info.txt', 'folder-1\\\\SR159360_ddn_showall_20210222-13_54_51.tar\\\\SR159360_ddn_showall_20210222-13_54_51\\\\ioserver4-bond0\\\\storage\\\\dev_mapper.txt', 'folder-1\\\\SR159360_ddn_showall_20210222-13_54_51.tar\\\\SR159360_ddn_showall_20210222-13_54_51\\\\ioserver4-bond0\\\\storage\\\\dev_sfa.txt', 'folder-1\\\\SR159360_ddn_showall_20210222-13_54_51.tar\\\\SR159360_ddn_showall_20210222-13_54_51\\\\ioserver4-bond0\\\\storage\\\\fdisk.txt', 'folder-1\\\\SR159360_ddn_showall_20210222-13_54_51.tar\\\\SR159360_ddn_showall_20210222-13_54_51\\\\ioserver4-bond0\\\\storage\\\\iostat.txt', 'folder-1\\\\SR159360_ddn_showall_20210222-13_54_51.tar\\\\SR159360_ddn_showall_20210222-13_54_51\\\\ioserver4-bond0\\\\storage\\\\lsblk.txt', 'folder-1\\\\SR159360_ddn_showall_20210222-13_54_51.tar\\\\SR159360_ddn_showall_20210222-13_54_51\\\\ioserver4-bond0\\\\storage\\\\lspci_vv.txt', 'folder-1\\\\SR159360_ddn_showall_20210222-13_54_51.tar\\\\SR159360_ddn_showall_20210222-13_54_51\\\\ioserver4-bond0\\\\storage\\\\lsscsi_l.txt', 'folder-1\\\\SR159360_ddn_showall_20210222-13_54_51.tar\\\\SR159360_ddn_showall_20210222-13_54_51\\\\ioserver4-bond0\\\\storage\\\\multipath_ll.txt', 'folder-1\\\\SR159360_ddn_showall_20210222-13_54_51.tar\\\\SR159360_ddn_showall_20210222-13_54_51\\\\ioserver4-bond0\\\\storage\\\\srp_sg_tablesize.txt', 'folder-1\\\\SR159360_ddn_showall_20210222-13_54_51.tar\\\\SR159360_ddn_showall_20210222-13_54_51\\\\ioserver5-bond0\\\\gpfs\\\\mmdiag_commands.txt', 'folder-1\\\\SR159360_ddn_showall_20210222-13_54_51.tar\\\\SR159360_ddn_showall_20210222-13_54_51\\\\ioserver5-bond0\\\\gpfs\\\\mmdiag_deadlock.txt', 'folder-1\\\\SR159360_ddn_showall_20210222-13_54_51.tar\\\\SR159360_ddn_showall_20210222-13_54_51\\\\ioserver5-bond0\\\\gpfs\\\\mmdiag_iohist.txt', 'folder-1\\\\SR159360_ddn_showall_20210222-13_54_51.tar\\\\SR159360_ddn_showall_20210222-13_54_51\\\\ioserver5-bond0\\\\gpfs\\\\mmdiag_memory.txt', 'folder-1\\\\SR159360_ddn_showall_20210222-13_54_51.tar\\\\SR159360_ddn_showall_20210222-13_54_51\\\\ioserver5-bond0\\\\gpfs\\\\mmdiag_mmdiag_version.txt', 'folder-1\\\\SR159360_ddn_showall_20210222-13_54_51.tar\\\\SR159360_ddn_showall_20210222-13_54_51\\\\ioserver5-bond0\\\\gpfs\\\\mmdiag_mmdiag_waiters.txt', 'folder-1\\\\SR159360_ddn_showall_20210222-13_54_51.tar\\\\SR159360_ddn_showall_20210222-13_54_51\\\\ioserver5-bond0\\\\gpfs\\\\mmdiag_network.txt', 'folder-1\\\\SR159360_ddn_showall_20210222-13_54_51.tar\\\\SR159360_ddn_showall_20210222-13_54_51\\\\ioserver5-bond0\\\\gpfs\\\\mmdiag_stats.txt', 'folder-1\\\\SR159360_ddn_showall_20210222-13_54_51.tar\\\\SR159360_ddn_showall_20210222-13_54_51\\\\ioserver5-bond0\\\\gpfs\\\\mmdiag_tokenmgr.txt', 'folder-1\\\\SR159360_ddn_showall_20210222-13_54_51.tar\\\\SR159360_ddn_showall_20210222-13_54_51\\\\ioserver5-bond0\\\\gpfs\\\\mmfsadm_dump_fs.txt', 'folder-1\\\\SR159360_ddn_showall_20210222-13_54_51.tar\\\\SR159360_ddn_showall_20210222-13_54_51\\\\ioserver5-bond0\\\\gpfs\\\\mmfsadm_dump_nsd.txt', 'folder-1\\\\SR159360_ddn_showall_20210222-13_54_51.tar\\\\SR159360_ddn_showall_20210222-13_54_51\\\\ioserver5-bond0\\\\gpfs\\\\mmfsadm_dump_verbs.txt', 'folder-1\\\\SR159360_ddn_showall_20210222-13_54_51.tar\\\\SR159360_ddn_showall_20210222-13_54_51\\\\ioserver5-bond0\\\\gpfs\\\\mmfsadm_test_verbs_config.txt', 'folder-1\\\\SR159360_ddn_showall_20210222-13_54_51.tar\\\\SR159360_ddn_showall_20210222-13_54_51\\\\ioserver5-bond0\\\\gpfs\\\\mmfsadm_test_verbs_status.txt', 'folder-1\\\\SR159360_ddn_showall_20210222-13_54_51.tar\\\\SR159360_ddn_showall_20210222-13_54_51\\\\ioserver5-bond0\\\\gpfs\\\\mmfsadm_verbs_conn.txt', 'folder-1\\\\SR159360_ddn_showall_20210222-13_54_51.tar\\\\SR159360_ddn_showall_20210222-13_54_51\\\\ioserver5-bond0\\\\gpfs\\\\mmlsdisk_m.txt', 'folder-1\\\\SR159360_ddn_showall_20210222-13_54_51.tar\\\\SR159360_ddn_showall_20210222-13_54_51\\\\ioserver5-bond0\\\\gpfs\\\\mmlslicense.txt', 'folder-1\\\\SR159360_ddn_showall_20210222-13_54_51.tar\\\\SR159360_ddn_showall_20210222-13_54_51\\\\ioserver5-bond0\\\\gpfs\\\\mmlsnsd_l.txt', 'folder-1\\\\SR159360_ddn_showall_20210222-13_54_51.tar\\\\SR159360_ddn_showall_20210222-13_54_51\\\\ioserver5-bond0\\\\gpfs\\\\rpm_qi_gpfs_base.txt', 'folder-1\\\\SR159360_ddn_showall_20210222-13_54_51.tar\\\\SR159360_ddn_showall_20210222-13_54_51\\\\ioserver5-bond0\\\\infiniband\\\\ibnetdiscover.txt', 'folder-1\\\\SR159360_ddn_showall_20210222-13_54_51.tar\\\\SR159360_ddn_showall_20210222-13_54_51\\\\ioserver5-bond0\\\\infiniband\\\\ibstat.txt', 'folder-1\\\\SR159360_ddn_showall_20210222-13_54_51.tar\\\\SR159360_ddn_showall_20210222-13_54_51\\\\ioserver5-bond0\\\\infiniband\\\\ibstatus.txt', 'folder-1\\\\SR159360_ddn_showall_20210222-13_54_51.tar\\\\SR159360_ddn_showall_20210222-13_54_51\\\\ioserver5-bond0\\\\infiniband\\\\ibv_devices.txt', 'folder-1\\\\SR159360_ddn_showall_20210222-13_54_51.tar\\\\SR159360_ddn_showall_20210222-13_54_51\\\\ioserver5-bond0\\\\infiniband\\\\ibv_devinfo.txt', 'folder-1\\\\SR159360_ddn_showall_20210222-13_54_51.tar\\\\SR159360_ddn_showall_20210222-13_54_51\\\\ioserver5-bond0\\\\infiniband\\\\perfquery.txt', 'folder-1\\\\SR159360_ddn_showall_20210222-13_54_51.tar\\\\SR159360_ddn_showall_20210222-13_54_51\\\\ioserver5-bond0\\\\infiniband\\\\sminfo.txt', 'folder-1\\\\SR159360_ddn_showall_20210222-13_54_51.tar\\\\SR159360_ddn_showall_20210222-13_54_51\\\\ioserver5-bond0\\\\network\\\\ethtool.txt', 'folder-1\\\\SR159360_ddn_showall_20210222-13_54_51.tar\\\\SR159360_ddn_showall_20210222-13_54_51\\\\ioserver5-bond0\\\\network\\\\ethtool_a.txt', 'folder-1\\\\SR159360_ddn_showall_20210222-13_54_51.tar\\\\SR159360_ddn_showall_20210222-13_54_51\\\\ioserver5-bond0\\\\network\\\\ethtool_k.txt', 'folder-1\\\\SR159360_ddn_showall_20210222-13_54_51.tar\\\\SR159360_ddn_showall_20210222-13_54_51\\\\ioserver5-bond0\\\\network\\\\ethtool_s.txt', 'folder-1\\\\SR159360_ddn_showall_20210222-13_54_51.tar\\\\SR159360_ddn_showall_20210222-13_54_51\\\\ioserver5-bond0\\\\network\\\\iptables_save.txt', 'folder-1\\\\SR159360_ddn_showall_20210222-13_54_51.tar\\\\SR159360_ddn_showall_20210222-13_54_51\\\\ioserver5-bond0\\\\network\\\\ip_a.txt', 'folder-1\\\\SR159360_ddn_showall_20210222-13_54_51.tar\\\\SR159360_ddn_showall_20210222-13_54_51\\\\ioserver5-bond0\\\\network\\\\netdev_queues.txt', 'folder-1\\\\SR159360_ddn_showall_20210222-13_54_51.tar\\\\SR159360_ddn_showall_20210222-13_54_51\\\\ioserver5-bond0\\\\network\\\\netdev_statistics.txt', 'folder-1\\\\SR159360_ddn_showall_20210222-13_54_51.tar\\\\SR159360_ddn_showall_20210222-13_54_51\\\\ioserver5-bond0\\\\network\\\\netstat_a.txt', 'folder-1\\\\SR159360_ddn_showall_20210222-13_54_51.tar\\\\SR159360_ddn_showall_20210222-13_54_51\\\\ioserver5-bond0\\\\network\\\\netstat_in.txt', 'folder-1\\\\SR159360_ddn_showall_20210222-13_54_51.tar\\\\SR159360_ddn_showall_20210222-13_54_51\\\\ioserver5-bond0\\\\network\\\\netstat_rn.txt', 'folder-1\\\\SR159360_ddn_showall_20210222-13_54_51.tar\\\\SR159360_ddn_showall_20210222-13_54_51\\\\ioserver5-bond0\\\\network\\\\netstat_s.txt', 'folder-1\\\\SR159360_ddn_showall_20210222-13_54_51.tar\\\\SR159360_ddn_showall_20210222-13_54_51\\\\ioserver5-bond0\\\\nfs\\\\exportfs_v.txt', 'folder-1\\\\SR159360_ddn_showall_20210222-13_54_51.tar\\\\SR159360_ddn_showall_20210222-13_54_51\\\\ioserver5-bond0\\\\nfs\\\\modinfo_nfsd.txt', 'folder-1\\\\SR159360_ddn_showall_20210222-13_54_51.tar\\\\SR159360_ddn_showall_20210222-13_54_51\\\\ioserver5-bond0\\\\nfs\\\\proc_fs_nfsd_max_block_size.txt', 'folder-1\\\\SR159360_ddn_showall_20210222-13_54_51.tar\\\\SR159360_ddn_showall_20210222-13_54_51\\\\ioserver5-bond0\\\\nfs\\\\proc_net_rpc_nfsd.txt', 'folder-1\\\\SR159360_ddn_showall_20210222-13_54_51.tar\\\\SR159360_ddn_showall_20210222-13_54_51\\\\ioserver5-bond0\\\\nfs\\\\showmount_e.txt', 'folder-1\\\\SR159360_ddn_showall_20210222-13_54_51.tar\\\\SR159360_ddn_showall_20210222-13_54_51\\\\ioserver5-bond0\\\\opa\\\\opahfirev.txt', 'folder-1\\\\SR159360_ddn_showall_20210222-13_54_51.tar\\\\SR159360_ddn_showall_20210222-13_54_51\\\\ioserver5-bond0\\\\opa\\\\opareport.txt', 'folder-1\\\\SR159360_ddn_showall_20210222-13_54_51.tar\\\\SR159360_ddn_showall_20210222-13_54_51\\\\ioserver5-bond0\\\\opa\\\\opa_hfi1_eprom_v_b.txt', 'folder-1\\\\SR159360_ddn_showall_20210222-13_54_51.tar\\\\SR159360_ddn_showall_20210222-13_54_51\\\\ioserver5-bond0\\\\opa\\\\opa_hfi1_eprom_v_o.txt', 'folder-1\\\\SR159360_ddn_showall_20210222-13_54_51.tar\\\\SR159360_ddn_showall_20210222-13_54_51\\\\ioserver5-bond0\\\\opa\\\\opa_info.txt', 'folder-1\\\\SR159360_ddn_showall_20210222-13_54_51.tar\\\\SR159360_ddn_showall_20210222-13_54_51\\\\ioserver5-bond0\\\\opa\\\\opa_info_info.txt', 'folder-1\\\\SR159360_ddn_showall_20210222-13_54_51.tar\\\\SR159360_ddn_showall_20210222-13_54_51\\\\ioserver5-bond0\\\\opa\\\\opa_info_stats.txt', 'folder-1\\\\SR159360_ddn_showall_20210222-13_54_51.tar\\\\SR159360_ddn_showall_20210222-13_54_51\\\\ioserver5-bond0\\\\opa\\\\opa_osd_dump.txt', 'folder-1\\\\SR159360_ddn_showall_20210222-13_54_51.tar\\\\SR159360_ddn_showall_20210222-13_54_51\\\\ioserver5-bond0\\\\storage\\\\blockdev_info.txt', 'folder-1\\\\SR159360_ddn_showall_20210222-13_54_51.tar\\\\SR159360_ddn_showall_20210222-13_54_51\\\\ioserver5-bond0\\\\storage\\\\dev_mapper.txt', 'folder-1\\\\SR159360_ddn_showall_20210222-13_54_51.tar\\\\SR159360_ddn_showall_20210222-13_54_51\\\\ioserver5-bond0\\\\storage\\\\dev_sfa.txt', 'folder-1\\\\SR159360_ddn_showall_20210222-13_54_51.tar\\\\SR159360_ddn_showall_20210222-13_54_51\\\\ioserver5-bond0\\\\storage\\\\fdisk.txt', 'folder-1\\\\SR159360_ddn_showall_20210222-13_54_51.tar\\\\SR159360_ddn_showall_20210222-13_54_51\\\\ioserver5-bond0\\\\storage\\\\iostat.txt', 'folder-1\\\\SR159360_ddn_showall_20210222-13_54_51.tar\\\\SR159360_ddn_showall_20210222-13_54_51\\\\ioserver5-bond0\\\\storage\\\\lsblk.txt', 'folder-1\\\\SR159360_ddn_showall_20210222-13_54_51.tar\\\\SR159360_ddn_showall_20210222-13_54_51\\\\ioserver5-bond0\\\\storage\\\\lspci_vv.txt', 'folder-1\\\\SR159360_ddn_showall_20210222-13_54_51.tar\\\\SR159360_ddn_showall_20210222-13_54_51\\\\ioserver5-bond0\\\\storage\\\\lsscsi_l.txt', 'folder-1\\\\SR159360_ddn_showall_20210222-13_54_51.tar\\\\SR159360_ddn_showall_20210222-13_54_51\\\\ioserver5-bond0\\\\storage\\\\multipath_ll.txt', 'folder-1\\\\SR159360_ddn_showall_20210222-13_54_51.tar\\\\SR159360_ddn_showall_20210222-13_54_51\\\\ioserver5-bond0\\\\storage\\\\srp_sg_tablesize.txt', 'folder-1\\\\SR159360_ddn_showall_20210222-13_54_51.tar\\\\SR159360_ddn_showall_20210222-13_54_51\\\\ioserver6-bond0\\\\gpfs\\\\mmdiag_commands.txt', 'folder-1\\\\SR159360_ddn_showall_20210222-13_54_51.tar\\\\SR159360_ddn_showall_20210222-13_54_51\\\\ioserver6-bond0\\\\gpfs\\\\mmdiag_deadlock.txt', 'folder-1\\\\SR159360_ddn_showall_20210222-13_54_51.tar\\\\SR159360_ddn_showall_20210222-13_54_51\\\\ioserver6-bond0\\\\gpfs\\\\mmdiag_iohist.txt', 'folder-1\\\\SR159360_ddn_showall_20210222-13_54_51.tar\\\\SR159360_ddn_showall_20210222-13_54_51\\\\ioserver6-bond0\\\\gpfs\\\\mmdiag_memory.txt', 'folder-1\\\\SR159360_ddn_showall_20210222-13_54_51.tar\\\\SR159360_ddn_showall_20210222-13_54_51\\\\ioserver6-bond0\\\\gpfs\\\\mmdiag_mmdiag_version.txt', 'folder-1\\\\SR159360_ddn_showall_20210222-13_54_51.tar\\\\SR159360_ddn_showall_20210222-13_54_51\\\\ioserver6-bond0\\\\gpfs\\\\mmdiag_mmdiag_waiters.txt', 'folder-1\\\\SR159360_ddn_showall_20210222-13_54_51.tar\\\\SR159360_ddn_showall_20210222-13_54_51\\\\ioserver6-bond0\\\\gpfs\\\\mmdiag_network.txt', 'folder-1\\\\SR159360_ddn_showall_20210222-13_54_51.tar\\\\SR159360_ddn_showall_20210222-13_54_51\\\\ioserver6-bond0\\\\gpfs\\\\mmdiag_stats.txt', 'folder-1\\\\SR159360_ddn_showall_20210222-13_54_51.tar\\\\SR159360_ddn_showall_20210222-13_54_51\\\\ioserver6-bond0\\\\gpfs\\\\mmdiag_tokenmgr.txt', 'folder-1\\\\SR159360_ddn_showall_20210222-13_54_51.tar\\\\SR159360_ddn_showall_20210222-13_54_51\\\\ioserver6-bond0\\\\gpfs\\\\mmfsadm_dump_fs.txt', 'folder-1\\\\SR159360_ddn_showall_20210222-13_54_51.tar\\\\SR159360_ddn_showall_20210222-13_54_51\\\\ioserver6-bond0\\\\gpfs\\\\mmfsadm_dump_nsd.txt', 'folder-1\\\\SR159360_ddn_showall_20210222-13_54_51.tar\\\\SR159360_ddn_showall_20210222-13_54_51\\\\ioserver6-bond0\\\\gpfs\\\\mmfsadm_dump_verbs.txt', 'folder-1\\\\SR159360_ddn_showall_20210222-13_54_51.tar\\\\SR159360_ddn_showall_20210222-13_54_51\\\\ioserver6-bond0\\\\gpfs\\\\mmfsadm_test_verbs_config.txt', 'folder-1\\\\SR159360_ddn_showall_20210222-13_54_51.tar\\\\SR159360_ddn_showall_20210222-13_54_51\\\\ioserver6-bond0\\\\gpfs\\\\mmfsadm_test_verbs_status.txt', 'folder-1\\\\SR159360_ddn_showall_20210222-13_54_51.tar\\\\SR159360_ddn_showall_20210222-13_54_51\\\\ioserver6-bond0\\\\gpfs\\\\mmfsadm_verbs_conn.txt', 'folder-1\\\\SR159360_ddn_showall_20210222-13_54_51.tar\\\\SR159360_ddn_showall_20210222-13_54_51\\\\ioserver6-bond0\\\\gpfs\\\\mmlsdisk_m.txt', 'folder-1\\\\SR159360_ddn_showall_20210222-13_54_51.tar\\\\SR159360_ddn_showall_20210222-13_54_51\\\\ioserver6-bond0\\\\gpfs\\\\mmlslicense.txt', 'folder-1\\\\SR159360_ddn_showall_20210222-13_54_51.tar\\\\SR159360_ddn_showall_20210222-13_54_51\\\\ioserver6-bond0\\\\gpfs\\\\mmlsnsd_l.txt', 'folder-1\\\\SR159360_ddn_showall_20210222-13_54_51.tar\\\\SR159360_ddn_showall_20210222-13_54_51\\\\ioserver6-bond0\\\\gpfs\\\\rpm_qi_gpfs_base.txt', 'folder-1\\\\SR159360_ddn_showall_20210222-13_54_51.tar\\\\SR159360_ddn_showall_20210222-13_54_51\\\\ioserver6-bond0\\\\infiniband\\\\ibnetdiscover.txt', 'folder-1\\\\SR159360_ddn_showall_20210222-13_54_51.tar\\\\SR159360_ddn_showall_20210222-13_54_51\\\\ioserver6-bond0\\\\infiniband\\\\ibstat.txt', 'folder-1\\\\SR159360_ddn_showall_20210222-13_54_51.tar\\\\SR159360_ddn_showall_20210222-13_54_51\\\\ioserver6-bond0\\\\infiniband\\\\ibstatus.txt', 'folder-1\\\\SR159360_ddn_showall_20210222-13_54_51.tar\\\\SR159360_ddn_showall_20210222-13_54_51\\\\ioserver6-bond0\\\\infiniband\\\\ibv_devices.txt', 'folder-1\\\\SR159360_ddn_showall_20210222-13_54_51.tar\\\\SR159360_ddn_showall_20210222-13_54_51\\\\ioserver6-bond0\\\\infiniband\\\\ibv_devinfo.txt', 'folder-1\\\\SR159360_ddn_showall_20210222-13_54_51.tar\\\\SR159360_ddn_showall_20210222-13_54_51\\\\ioserver6-bond0\\\\infiniband\\\\perfquery.txt', 'folder-1\\\\SR159360_ddn_showall_20210222-13_54_51.tar\\\\SR159360_ddn_showall_20210222-13_54_51\\\\ioserver6-bond0\\\\infiniband\\\\sminfo.txt', 'folder-1\\\\SR159360_ddn_showall_20210222-13_54_51.tar\\\\SR159360_ddn_showall_20210222-13_54_51\\\\ioserver6-bond0\\\\network\\\\ethtool.txt', 'folder-1\\\\SR159360_ddn_showall_20210222-13_54_51.tar\\\\SR159360_ddn_showall_20210222-13_54_51\\\\ioserver6-bond0\\\\network\\\\ethtool_a.txt', 'folder-1\\\\SR159360_ddn_showall_20210222-13_54_51.tar\\\\SR159360_ddn_showall_20210222-13_54_51\\\\ioserver6-bond0\\\\network\\\\ethtool_k.txt', 'folder-1\\\\SR159360_ddn_showall_20210222-13_54_51.tar\\\\SR159360_ddn_showall_20210222-13_54_51\\\\ioserver6-bond0\\\\network\\\\ethtool_s.txt', 'folder-1\\\\SR159360_ddn_showall_20210222-13_54_51.tar\\\\SR159360_ddn_showall_20210222-13_54_51\\\\ioserver6-bond0\\\\network\\\\iptables_save.txt', 'folder-1\\\\SR159360_ddn_showall_20210222-13_54_51.tar\\\\SR159360_ddn_showall_20210222-13_54_51\\\\ioserver6-bond0\\\\network\\\\ip_a.txt', 'folder-1\\\\SR159360_ddn_showall_20210222-13_54_51.tar\\\\SR159360_ddn_showall_20210222-13_54_51\\\\ioserver6-bond0\\\\network\\\\netdev_queues.txt', 'folder-1\\\\SR159360_ddn_showall_20210222-13_54_51.tar\\\\SR159360_ddn_showall_20210222-13_54_51\\\\ioserver6-bond0\\\\network\\\\netdev_statistics.txt', 'folder-1\\\\SR159360_ddn_showall_20210222-13_54_51.tar\\\\SR159360_ddn_showall_20210222-13_54_51\\\\ioserver6-bond0\\\\network\\\\netstat_a.txt', 'folder-1\\\\SR159360_ddn_showall_20210222-13_54_51.tar\\\\SR159360_ddn_showall_20210222-13_54_51\\\\ioserver6-bond0\\\\network\\\\netstat_in.txt', 'folder-1\\\\SR159360_ddn_showall_20210222-13_54_51.tar\\\\SR159360_ddn_showall_20210222-13_54_51\\\\ioserver6-bond0\\\\network\\\\netstat_rn.txt', 'folder-1\\\\SR159360_ddn_showall_20210222-13_54_51.tar\\\\SR159360_ddn_showall_20210222-13_54_51\\\\ioserver6-bond0\\\\network\\\\netstat_s.txt', 'folder-1\\\\SR159360_ddn_showall_20210222-13_54_51.tar\\\\SR159360_ddn_showall_20210222-13_54_51\\\\ioserver6-bond0\\\\nfs\\\\exportfs_v.txt', 'folder-1\\\\SR159360_ddn_showall_20210222-13_54_51.tar\\\\SR159360_ddn_showall_20210222-13_54_51\\\\ioserver6-bond0\\\\nfs\\\\modinfo_nfsd.txt', 'folder-1\\\\SR159360_ddn_showall_20210222-13_54_51.tar\\\\SR159360_ddn_showall_20210222-13_54_51\\\\ioserver6-bond0\\\\nfs\\\\proc_fs_nfsd_max_block_size.txt', 'folder-1\\\\SR159360_ddn_showall_20210222-13_54_51.tar\\\\SR159360_ddn_showall_20210222-13_54_51\\\\ioserver6-bond0\\\\nfs\\\\proc_net_rpc_nfsd.txt', 'folder-1\\\\SR159360_ddn_showall_20210222-13_54_51.tar\\\\SR159360_ddn_showall_20210222-13_54_51\\\\ioserver6-bond0\\\\nfs\\\\showmount_e.txt', 'folder-1\\\\SR159360_ddn_showall_20210222-13_54_51.tar\\\\SR159360_ddn_showall_20210222-13_54_51\\\\ioserver6-bond0\\\\opa\\\\opahfirev.txt', 'folder-1\\\\SR159360_ddn_showall_20210222-13_54_51.tar\\\\SR159360_ddn_showall_20210222-13_54_51\\\\ioserver6-bond0\\\\opa\\\\opareport.txt', 'folder-1\\\\SR159360_ddn_showall_20210222-13_54_51.tar\\\\SR159360_ddn_showall_20210222-13_54_51\\\\ioserver6-bond0\\\\opa\\\\opa_hfi1_eprom_v_b.txt', 'folder-1\\\\SR159360_ddn_showall_20210222-13_54_51.tar\\\\SR159360_ddn_showall_20210222-13_54_51\\\\ioserver6-bond0\\\\opa\\\\opa_hfi1_eprom_v_o.txt', 'folder-1\\\\SR159360_ddn_showall_20210222-13_54_51.tar\\\\SR159360_ddn_showall_20210222-13_54_51\\\\ioserver6-bond0\\\\opa\\\\opa_info.txt', 'folder-1\\\\SR159360_ddn_showall_20210222-13_54_51.tar\\\\SR159360_ddn_showall_20210222-13_54_51\\\\ioserver6-bond0\\\\opa\\\\opa_info_info.txt', 'folder-1\\\\SR159360_ddn_showall_20210222-13_54_51.tar\\\\SR159360_ddn_showall_20210222-13_54_51\\\\ioserver6-bond0\\\\opa\\\\opa_info_stats.txt', 'folder-1\\\\SR159360_ddn_showall_20210222-13_54_51.tar\\\\SR159360_ddn_showall_20210222-13_54_51\\\\ioserver6-bond0\\\\opa\\\\opa_osd_dump.txt', 'folder-1\\\\SR159360_ddn_showall_20210222-13_54_51.tar\\\\SR159360_ddn_showall_20210222-13_54_51\\\\ioserver6-bond0\\\\storage\\\\blockdev_info.txt', 'folder-1\\\\SR159360_ddn_showall_20210222-13_54_51.tar\\\\SR159360_ddn_showall_20210222-13_54_51\\\\ioserver6-bond0\\\\storage\\\\dev_mapper.txt', 'folder-1\\\\SR159360_ddn_showall_20210222-13_54_51.tar\\\\SR159360_ddn_showall_20210222-13_54_51\\\\ioserver6-bond0\\\\storage\\\\dev_sfa.txt', 'folder-1\\\\SR159360_ddn_showall_20210222-13_54_51.tar\\\\SR159360_ddn_showall_20210222-13_54_51\\\\ioserver6-bond0\\\\storage\\\\fdisk.txt', 'folder-1\\\\SR159360_ddn_showall_20210222-13_54_51.tar\\\\SR159360_ddn_showall_20210222-13_54_51\\\\ioserver6-bond0\\\\storage\\\\iostat.txt', 'folder-1\\\\SR159360_ddn_showall_20210222-13_54_51.tar\\\\SR159360_ddn_showall_20210222-13_54_51\\\\ioserver6-bond0\\\\storage\\\\lsblk.txt', 'folder-1\\\\SR159360_ddn_showall_20210222-13_54_51.tar\\\\SR159360_ddn_showall_20210222-13_54_51\\\\ioserver6-bond0\\\\storage\\\\lspci_vv.txt', 'folder-1\\\\SR159360_ddn_showall_20210222-13_54_51.tar\\\\SR159360_ddn_showall_20210222-13_54_51\\\\ioserver6-bond0\\\\storage\\\\lsscsi_l.txt', 'folder-1\\\\SR159360_ddn_showall_20210222-13_54_51.tar\\\\SR159360_ddn_showall_20210222-13_54_51\\\\ioserver6-bond0\\\\storage\\\\multipath_ll.txt', 'folder-1\\\\SR159360_ddn_showall_20210222-13_54_51.tar\\\\SR159360_ddn_showall_20210222-13_54_51\\\\ioserver6-bond0\\\\storage\\\\srp_sg_tablesize.txt', 'folder-1\\\\SR159360_ddn_showall_20210222-13_54_51.tar\\\\SR159360_ddn_showall_20210222-13_54_51\\\\ioserver7-bond0\\\\gpfs\\\\mmdiag_commands.txt', 'folder-1\\\\SR159360_ddn_showall_20210222-13_54_51.tar\\\\SR159360_ddn_showall_20210222-13_54_51\\\\ioserver7-bond0\\\\gpfs\\\\mmdiag_deadlock.txt', 'folder-1\\\\SR159360_ddn_showall_20210222-13_54_51.tar\\\\SR159360_ddn_showall_20210222-13_54_51\\\\ioserver7-bond0\\\\gpfs\\\\mmdiag_iohist.txt', 'folder-1\\\\SR159360_ddn_showall_20210222-13_54_51.tar\\\\SR159360_ddn_showall_20210222-13_54_51\\\\ioserver7-bond0\\\\gpfs\\\\mmdiag_memory.txt', 'folder-1\\\\SR159360_ddn_showall_20210222-13_54_51.tar\\\\SR159360_ddn_showall_20210222-13_54_51\\\\ioserver7-bond0\\\\gpfs\\\\mmdiag_mmdiag_version.txt', 'folder-1\\\\SR159360_ddn_showall_20210222-13_54_51.tar\\\\SR159360_ddn_showall_20210222-13_54_51\\\\ioserver7-bond0\\\\gpfs\\\\mmdiag_mmdiag_waiters.txt', 'folder-1\\\\SR159360_ddn_showall_20210222-13_54_51.tar\\\\SR159360_ddn_showall_20210222-13_54_51\\\\ioserver7-bond0\\\\gpfs\\\\mmdiag_network.txt', 'folder-1\\\\SR159360_ddn_showall_20210222-13_54_51.tar\\\\SR159360_ddn_showall_20210222-13_54_51\\\\ioserver7-bond0\\\\gpfs\\\\mmdiag_stats.txt', 'folder-1\\\\SR159360_ddn_showall_20210222-13_54_51.tar\\\\SR159360_ddn_showall_20210222-13_54_51\\\\ioserver7-bond0\\\\gpfs\\\\mmdiag_tokenmgr.txt', 'folder-1\\\\SR159360_ddn_showall_20210222-13_54_51.tar\\\\SR159360_ddn_showall_20210222-13_54_51\\\\ioserver7-bond0\\\\gpfs\\\\mmfsadm_dump_fs.txt', 'folder-1\\\\SR159360_ddn_showall_20210222-13_54_51.tar\\\\SR159360_ddn_showall_20210222-13_54_51\\\\ioserver7-bond0\\\\gpfs\\\\mmfsadm_dump_nsd.txt', 'folder-1\\\\SR159360_ddn_showall_20210222-13_54_51.tar\\\\SR159360_ddn_showall_20210222-13_54_51\\\\ioserver7-bond0\\\\gpfs\\\\mmfsadm_dump_verbs.txt', 'folder-1\\\\SR159360_ddn_showall_20210222-13_54_51.tar\\\\SR159360_ddn_showall_20210222-13_54_51\\\\ioserver7-bond0\\\\gpfs\\\\mmfsadm_test_verbs_config.txt', 'folder-1\\\\SR159360_ddn_showall_20210222-13_54_51.tar\\\\SR159360_ddn_showall_20210222-13_54_51\\\\ioserver7-bond0\\\\gpfs\\\\mmfsadm_test_verbs_status.txt', 'folder-1\\\\SR159360_ddn_showall_20210222-13_54_51.tar\\\\SR159360_ddn_showall_20210222-13_54_51\\\\ioserver7-bond0\\\\gpfs\\\\mmfsadm_verbs_conn.txt', 'folder-1\\\\SR159360_ddn_showall_20210222-13_54_51.tar\\\\SR159360_ddn_showall_20210222-13_54_51\\\\ioserver7-bond0\\\\gpfs\\\\mmlsdisk_m.txt', 'folder-1\\\\SR159360_ddn_showall_20210222-13_54_51.tar\\\\SR159360_ddn_showall_20210222-13_54_51\\\\ioserver7-bond0\\\\gpfs\\\\mmlslicense.txt', 'folder-1\\\\SR159360_ddn_showall_20210222-13_54_51.tar\\\\SR159360_ddn_showall_20210222-13_54_51\\\\ioserver7-bond0\\\\gpfs\\\\mmlsnsd_l.txt', 'folder-1\\\\SR159360_ddn_showall_20210222-13_54_51.tar\\\\SR159360_ddn_showall_20210222-13_54_51\\\\ioserver7-bond0\\\\gpfs\\\\rpm_qi_gpfs_base.txt', 'folder-1\\\\SR159360_ddn_showall_20210222-13_54_51.tar\\\\SR159360_ddn_showall_20210222-13_54_51\\\\ioserver7-bond0\\\\infiniband\\\\ibnetdiscover.txt', 'folder-1\\\\SR159360_ddn_showall_20210222-13_54_51.tar\\\\SR159360_ddn_showall_20210222-13_54_51\\\\ioserver7-bond0\\\\infiniband\\\\ibstat.txt', 'folder-1\\\\SR159360_ddn_showall_20210222-13_54_51.tar\\\\SR159360_ddn_showall_20210222-13_54_51\\\\ioserver7-bond0\\\\infiniband\\\\ibstatus.txt', 'folder-1\\\\SR159360_ddn_showall_20210222-13_54_51.tar\\\\SR159360_ddn_showall_20210222-13_54_51\\\\ioserver7-bond0\\\\infiniband\\\\ibv_devices.txt', 'folder-1\\\\SR159360_ddn_showall_20210222-13_54_51.tar\\\\SR159360_ddn_showall_20210222-13_54_51\\\\ioserver7-bond0\\\\infiniband\\\\ibv_devinfo.txt', 'folder-1\\\\SR159360_ddn_showall_20210222-13_54_51.tar\\\\SR159360_ddn_showall_20210222-13_54_51\\\\ioserver7-bond0\\\\infiniband\\\\perfquery.txt', 'folder-1\\\\SR159360_ddn_showall_20210222-13_54_51.tar\\\\SR159360_ddn_showall_20210222-13_54_51\\\\ioserver7-bond0\\\\infiniband\\\\sminfo.txt', 'folder-1\\\\SR159360_ddn_showall_20210222-13_54_51.tar\\\\SR159360_ddn_showall_20210222-13_54_51\\\\ioserver7-bond0\\\\network\\\\ethtool.txt', 'folder-1\\\\SR159360_ddn_showall_20210222-13_54_51.tar\\\\SR159360_ddn_showall_20210222-13_54_51\\\\ioserver7-bond0\\\\network\\\\ethtool_a.txt', 'folder-1\\\\SR159360_ddn_showall_20210222-13_54_51.tar\\\\SR159360_ddn_showall_20210222-13_54_51\\\\ioserver7-bond0\\\\network\\\\ethtool_k.txt', 'folder-1\\\\SR159360_ddn_showall_20210222-13_54_51.tar\\\\SR159360_ddn_showall_20210222-13_54_51\\\\ioserver7-bond0\\\\network\\\\ethtool_s.txt', 'folder-1\\\\SR159360_ddn_showall_20210222-13_54_51.tar\\\\SR159360_ddn_showall_20210222-13_54_51\\\\ioserver7-bond0\\\\network\\\\iptables_save.txt', 'folder-1\\\\SR159360_ddn_showall_20210222-13_54_51.tar\\\\SR159360_ddn_showall_20210222-13_54_51\\\\ioserver7-bond0\\\\network\\\\ip_a.txt', 'folder-1\\\\SR159360_ddn_showall_20210222-13_54_51.tar\\\\SR159360_ddn_showall_20210222-13_54_51\\\\ioserver7-bond0\\\\network\\\\netdev_queues.txt', 'folder-1\\\\SR159360_ddn_showall_20210222-13_54_51.tar\\\\SR159360_ddn_showall_20210222-13_54_51\\\\ioserver7-bond0\\\\network\\\\netdev_statistics.txt', 'folder-1\\\\SR159360_ddn_showall_20210222-13_54_51.tar\\\\SR159360_ddn_showall_20210222-13_54_51\\\\ioserver7-bond0\\\\network\\\\netstat_a.txt', 'folder-1\\\\SR159360_ddn_showall_20210222-13_54_51.tar\\\\SR159360_ddn_showall_20210222-13_54_51\\\\ioserver7-bond0\\\\network\\\\netstat_in.txt', 'folder-1\\\\SR159360_ddn_showall_20210222-13_54_51.tar\\\\SR159360_ddn_showall_20210222-13_54_51\\\\ioserver7-bond0\\\\network\\\\netstat_rn.txt', 'folder-1\\\\SR159360_ddn_showall_20210222-13_54_51.tar\\\\SR159360_ddn_showall_20210222-13_54_51\\\\ioserver7-bond0\\\\network\\\\netstat_s.txt', 'folder-1\\\\SR159360_ddn_showall_20210222-13_54_51.tar\\\\SR159360_ddn_showall_20210222-13_54_51\\\\ioserver7-bond0\\\\nfs\\\\exportfs_v.txt', 'folder-1\\\\SR159360_ddn_showall_20210222-13_54_51.tar\\\\SR159360_ddn_showall_20210222-13_54_51\\\\ioserver7-bond0\\\\nfs\\\\modinfo_nfsd.txt', 'folder-1\\\\SR159360_ddn_showall_20210222-13_54_51.tar\\\\SR159360_ddn_showall_20210222-13_54_51\\\\ioserver7-bond0\\\\nfs\\\\proc_fs_nfsd_max_block_size.txt', 'folder-1\\\\SR159360_ddn_showall_20210222-13_54_51.tar\\\\SR159360_ddn_showall_20210222-13_54_51\\\\ioserver7-bond0\\\\nfs\\\\proc_net_rpc_nfsd.txt', 'folder-1\\\\SR159360_ddn_showall_20210222-13_54_51.tar\\\\SR159360_ddn_showall_20210222-13_54_51\\\\ioserver7-bond0\\\\nfs\\\\showmount_e.txt', 'folder-1\\\\SR159360_ddn_showall_20210222-13_54_51.tar\\\\SR159360_ddn_showall_20210222-13_54_51\\\\ioserver7-bond0\\\\opa\\\\opahfirev.txt', 'folder-1\\\\SR159360_ddn_showall_20210222-13_54_51.tar\\\\SR159360_ddn_showall_20210222-13_54_51\\\\ioserver7-bond0\\\\opa\\\\opareport.txt', 'folder-1\\\\SR159360_ddn_showall_20210222-13_54_51.tar\\\\SR159360_ddn_showall_20210222-13_54_51\\\\ioserver7-bond0\\\\opa\\\\opa_hfi1_eprom_v_b.txt', 'folder-1\\\\SR159360_ddn_showall_20210222-13_54_51.tar\\\\SR159360_ddn_showall_20210222-13_54_51\\\\ioserver7-bond0\\\\opa\\\\opa_hfi1_eprom_v_o.txt', 'folder-1\\\\SR159360_ddn_showall_20210222-13_54_51.tar\\\\SR159360_ddn_showall_20210222-13_54_51\\\\ioserver7-bond0\\\\opa\\\\opa_info.txt', 'folder-1\\\\SR159360_ddn_showall_20210222-13_54_51.tar\\\\SR159360_ddn_showall_20210222-13_54_51\\\\ioserver7-bond0\\\\opa\\\\opa_info_info.txt', 'folder-1\\\\SR159360_ddn_showall_20210222-13_54_51.tar\\\\SR159360_ddn_showall_20210222-13_54_51\\\\ioserver7-bond0\\\\opa\\\\opa_info_stats.txt', 'folder-1\\\\SR159360_ddn_showall_20210222-13_54_51.tar\\\\SR159360_ddn_showall_20210222-13_54_51\\\\ioserver7-bond0\\\\opa\\\\opa_osd_dump.txt', 'folder-1\\\\SR159360_ddn_showall_20210222-13_54_51.tar\\\\SR159360_ddn_showall_20210222-13_54_51\\\\ioserver7-bond0\\\\storage\\\\blockdev_info.txt', 'folder-1\\\\SR159360_ddn_showall_20210222-13_54_51.tar\\\\SR159360_ddn_showall_20210222-13_54_51\\\\ioserver7-bond0\\\\storage\\\\dev_mapper.txt', 'folder-1\\\\SR159360_ddn_showall_20210222-13_54_51.tar\\\\SR159360_ddn_showall_20210222-13_54_51\\\\ioserver7-bond0\\\\storage\\\\dev_sfa.txt', 'folder-1\\\\SR159360_ddn_showall_20210222-13_54_51.tar\\\\SR159360_ddn_showall_20210222-13_54_51\\\\ioserver7-bond0\\\\storage\\\\fdisk.txt', 'folder-1\\\\SR159360_ddn_showall_20210222-13_54_51.tar\\\\SR159360_ddn_showall_20210222-13_54_51\\\\ioserver7-bond0\\\\storage\\\\iostat.txt', 'folder-1\\\\SR159360_ddn_showall_20210222-13_54_51.tar\\\\SR159360_ddn_showall_20210222-13_54_51\\\\ioserver7-bond0\\\\storage\\\\lsblk.txt', 'folder-1\\\\SR159360_ddn_showall_20210222-13_54_51.tar\\\\SR159360_ddn_showall_20210222-13_54_51\\\\ioserver7-bond0\\\\storage\\\\lspci_vv.txt', 'folder-1\\\\SR159360_ddn_showall_20210222-13_54_51.tar\\\\SR159360_ddn_showall_20210222-13_54_51\\\\ioserver7-bond0\\\\storage\\\\lsscsi_l.txt', 'folder-1\\\\SR159360_ddn_showall_20210222-13_54_51.tar\\\\SR159360_ddn_showall_20210222-13_54_51\\\\ioserver7-bond0\\\\storage\\\\multipath_ll.txt', 'folder-1\\\\SR159360_ddn_showall_20210222-13_54_51.tar\\\\SR159360_ddn_showall_20210222-13_54_51\\\\ioserver7-bond0\\\\storage\\\\srp_sg_tablesize.txt', 'folder-1\\\\SR159360_ddn_showall_20210222-13_54_51.tar\\\\SR159360_ddn_showall_20210222-13_54_51\\\\ioserver8-bond0\\\\gpfs\\\\mmdiag_commands.txt', 'folder-1\\\\SR159360_ddn_showall_20210222-13_54_51.tar\\\\SR159360_ddn_showall_20210222-13_54_51\\\\ioserver8-bond0\\\\gpfs\\\\mmdiag_deadlock.txt', 'folder-1\\\\SR159360_ddn_showall_20210222-13_54_51.tar\\\\SR159360_ddn_showall_20210222-13_54_51\\\\ioserver8-bond0\\\\gpfs\\\\mmdiag_iohist.txt', 'folder-1\\\\SR159360_ddn_showall_20210222-13_54_51.tar\\\\SR159360_ddn_showall_20210222-13_54_51\\\\ioserver8-bond0\\\\gpfs\\\\mmdiag_memory.txt', 'folder-1\\\\SR159360_ddn_showall_20210222-13_54_51.tar\\\\SR159360_ddn_showall_20210222-13_54_51\\\\ioserver8-bond0\\\\gpfs\\\\mmdiag_mmdiag_version.txt', 'folder-1\\\\SR159360_ddn_showall_20210222-13_54_51.tar\\\\SR159360_ddn_showall_20210222-13_54_51\\\\ioserver8-bond0\\\\gpfs\\\\mmdiag_mmdiag_waiters.txt', 'folder-1\\\\SR159360_ddn_showall_20210222-13_54_51.tar\\\\SR159360_ddn_showall_20210222-13_54_51\\\\ioserver8-bond0\\\\gpfs\\\\mmdiag_network.txt', 'folder-1\\\\SR159360_ddn_showall_20210222-13_54_51.tar\\\\SR159360_ddn_showall_20210222-13_54_51\\\\ioserver8-bond0\\\\gpfs\\\\mmdiag_stats.txt', 'folder-1\\\\SR159360_ddn_showall_20210222-13_54_51.tar\\\\SR159360_ddn_showall_20210222-13_54_51\\\\ioserver8-bond0\\\\gpfs\\\\mmdiag_tokenmgr.txt', 'folder-1\\\\SR159360_ddn_showall_20210222-13_54_51.tar\\\\SR159360_ddn_showall_20210222-13_54_51\\\\ioserver8-bond0\\\\gpfs\\\\mmfsadm_dump_fs.txt', 'folder-1\\\\SR159360_ddn_showall_20210222-13_54_51.tar\\\\SR159360_ddn_showall_20210222-13_54_51\\\\ioserver8-bond0\\\\gpfs\\\\mmfsadm_dump_nsd.txt', 'folder-1\\\\SR159360_ddn_showall_20210222-13_54_51.tar\\\\SR159360_ddn_showall_20210222-13_54_51\\\\ioserver8-bond0\\\\gpfs\\\\mmfsadm_dump_verbs.txt', 'folder-1\\\\SR159360_ddn_showall_20210222-13_54_51.tar\\\\SR159360_ddn_showall_20210222-13_54_51\\\\ioserver8-bond0\\\\gpfs\\\\mmfsadm_test_verbs_config.txt', 'folder-1\\\\SR159360_ddn_showall_20210222-13_54_51.tar\\\\SR159360_ddn_showall_20210222-13_54_51\\\\ioserver8-bond0\\\\gpfs\\\\mmfsadm_test_verbs_status.txt', 'folder-1\\\\SR159360_ddn_showall_20210222-13_54_51.tar\\\\SR159360_ddn_showall_20210222-13_54_51\\\\ioserver8-bond0\\\\gpfs\\\\mmfsadm_verbs_conn.txt', 'folder-1\\\\SR159360_ddn_showall_20210222-13_54_51.tar\\\\SR159360_ddn_showall_20210222-13_54_51\\\\ioserver8-bond0\\\\gpfs\\\\mmlsdisk_m.txt', 'folder-1\\\\SR159360_ddn_showall_20210222-13_54_51.tar\\\\SR159360_ddn_showall_20210222-13_54_51\\\\ioserver8-bond0\\\\gpfs\\\\mmlslicense.txt', 'folder-1\\\\SR159360_ddn_showall_20210222-13_54_51.tar\\\\SR159360_ddn_showall_20210222-13_54_51\\\\ioserver8-bond0\\\\gpfs\\\\mmlsnsd_l.txt', 'folder-1\\\\SR159360_ddn_showall_20210222-13_54_51.tar\\\\SR159360_ddn_showall_20210222-13_54_51\\\\ioserver8-bond0\\\\gpfs\\\\rpm_qi_gpfs_base.txt', 'folder-1\\\\SR159360_ddn_showall_20210222-13_54_51.tar\\\\SR159360_ddn_showall_20210222-13_54_51\\\\ioserver8-bond0\\\\infiniband\\\\ibnetdiscover.txt', 'folder-1\\\\SR159360_ddn_showall_20210222-13_54_51.tar\\\\SR159360_ddn_showall_20210222-13_54_51\\\\ioserver8-bond0\\\\infiniband\\\\ibstat.txt', 'folder-1\\\\SR159360_ddn_showall_20210222-13_54_51.tar\\\\SR159360_ddn_showall_20210222-13_54_51\\\\ioserver8-bond0\\\\infiniband\\\\ibstatus.txt', 'folder-1\\\\SR159360_ddn_showall_20210222-13_54_51.tar\\\\SR159360_ddn_showall_20210222-13_54_51\\\\ioserver8-bond0\\\\infiniband\\\\ibv_devices.txt', 'folder-1\\\\SR159360_ddn_showall_20210222-13_54_51.tar\\\\SR159360_ddn_showall_20210222-13_54_51\\\\ioserver8-bond0\\\\infiniband\\\\ibv_devinfo.txt', 'folder-1\\\\SR159360_ddn_showall_20210222-13_54_51.tar\\\\SR159360_ddn_showall_20210222-13_54_51\\\\ioserver8-bond0\\\\infiniband\\\\perfquery.txt', 'folder-1\\\\SR159360_ddn_showall_20210222-13_54_51.tar\\\\SR159360_ddn_showall_20210222-13_54_51\\\\ioserver8-bond0\\\\infiniband\\\\sminfo.txt', 'folder-1\\\\SR159360_ddn_showall_20210222-13_54_51.tar\\\\SR159360_ddn_showall_20210222-13_54_51\\\\ioserver8-bond0\\\\network\\\\ethtool.txt', 'folder-1\\\\SR159360_ddn_showall_20210222-13_54_51.tar\\\\SR159360_ddn_showall_20210222-13_54_51\\\\ioserver8-bond0\\\\network\\\\ethtool_a.txt', 'folder-1\\\\SR159360_ddn_showall_20210222-13_54_51.tar\\\\SR159360_ddn_showall_20210222-13_54_51\\\\ioserver8-bond0\\\\network\\\\ethtool_k.txt', 'folder-1\\\\SR159360_ddn_showall_20210222-13_54_51.tar\\\\SR159360_ddn_showall_20210222-13_54_51\\\\ioserver8-bond0\\\\network\\\\ethtool_s.txt', 'folder-1\\\\SR159360_ddn_showall_20210222-13_54_51.tar\\\\SR159360_ddn_showall_20210222-13_54_51\\\\ioserver8-bond0\\\\network\\\\iptables_save.txt', 'folder-1\\\\SR159360_ddn_showall_20210222-13_54_51.tar\\\\SR159360_ddn_showall_20210222-13_54_51\\\\ioserver8-bond0\\\\network\\\\ip_a.txt', 'folder-1\\\\SR159360_ddn_showall_20210222-13_54_51.tar\\\\SR159360_ddn_showall_20210222-13_54_51\\\\ioserver8-bond0\\\\network\\\\netdev_queues.txt', 'folder-1\\\\SR159360_ddn_showall_20210222-13_54_51.tar\\\\SR159360_ddn_showall_20210222-13_54_51\\\\ioserver8-bond0\\\\network\\\\netdev_statistics.txt', 'folder-1\\\\SR159360_ddn_showall_20210222-13_54_51.tar\\\\SR159360_ddn_showall_20210222-13_54_51\\\\ioserver8-bond0\\\\network\\\\netstat_a.txt', 'folder-1\\\\SR159360_ddn_showall_20210222-13_54_51.tar\\\\SR159360_ddn_showall_20210222-13_54_51\\\\ioserver8-bond0\\\\network\\\\netstat_in.txt', 'folder-1\\\\SR159360_ddn_showall_20210222-13_54_51.tar\\\\SR159360_ddn_showall_20210222-13_54_51\\\\ioserver8-bond0\\\\network\\\\netstat_rn.txt', 'folder-1\\\\SR159360_ddn_showall_20210222-13_54_51.tar\\\\SR159360_ddn_showall_20210222-13_54_51\\\\ioserver8-bond0\\\\network\\\\netstat_s.txt', 'folder-1\\\\SR159360_ddn_showall_20210222-13_54_51.tar\\\\SR159360_ddn_showall_20210222-13_54_51\\\\ioserver8-bond0\\\\nfs\\\\exportfs_v.txt', 'folder-1\\\\SR159360_ddn_showall_20210222-13_54_51.tar\\\\SR159360_ddn_showall_20210222-13_54_51\\\\ioserver8-bond0\\\\nfs\\\\modinfo_nfsd.txt', 'folder-1\\\\SR159360_ddn_showall_20210222-13_54_51.tar\\\\SR159360_ddn_showall_20210222-13_54_51\\\\ioserver8-bond0\\\\nfs\\\\proc_fs_nfsd_max_block_size.txt', 'folder-1\\\\SR159360_ddn_showall_20210222-13_54_51.tar\\\\SR159360_ddn_showall_20210222-13_54_51\\\\ioserver8-bond0\\\\nfs\\\\proc_net_rpc_nfsd.txt', 'folder-1\\\\SR159360_ddn_showall_20210222-13_54_51.tar\\\\SR159360_ddn_showall_20210222-13_54_51\\\\ioserver8-bond0\\\\nfs\\\\showmount_e.txt', 'folder-1\\\\SR159360_ddn_showall_20210222-13_54_51.tar\\\\SR159360_ddn_showall_20210222-13_54_51\\\\ioserver8-bond0\\\\opa\\\\opahfirev.txt', 'folder-1\\\\SR159360_ddn_showall_20210222-13_54_51.tar\\\\SR159360_ddn_showall_20210222-13_54_51\\\\ioserver8-bond0\\\\opa\\\\opareport.txt', 'folder-1\\\\SR159360_ddn_showall_20210222-13_54_51.tar\\\\SR159360_ddn_showall_20210222-13_54_51\\\\ioserver8-bond0\\\\opa\\\\opa_hfi1_eprom_v_b.txt', 'folder-1\\\\SR159360_ddn_showall_20210222-13_54_51.tar\\\\SR159360_ddn_showall_20210222-13_54_51\\\\ioserver8-bond0\\\\opa\\\\opa_hfi1_eprom_v_o.txt', 'folder-1\\\\SR159360_ddn_showall_20210222-13_54_51.tar\\\\SR159360_ddn_showall_20210222-13_54_51\\\\ioserver8-bond0\\\\opa\\\\opa_info.txt', 'folder-1\\\\SR159360_ddn_showall_20210222-13_54_51.tar\\\\SR159360_ddn_showall_20210222-13_54_51\\\\ioserver8-bond0\\\\opa\\\\opa_info_info.txt', 'folder-1\\\\SR159360_ddn_showall_20210222-13_54_51.tar\\\\SR159360_ddn_showall_20210222-13_54_51\\\\ioserver8-bond0\\\\opa\\\\opa_info_stats.txt', 'folder-1\\\\SR159360_ddn_showall_20210222-13_54_51.tar\\\\SR159360_ddn_showall_20210222-13_54_51\\\\ioserver8-bond0\\\\opa\\\\opa_osd_dump.txt', 'folder-1\\\\SR159360_ddn_showall_20210222-13_54_51.tar\\\\SR159360_ddn_showall_20210222-13_54_51\\\\ioserver8-bond0\\\\storage\\\\blockdev_info.txt', 'folder-1\\\\SR159360_ddn_showall_20210222-13_54_51.tar\\\\SR159360_ddn_showall_20210222-13_54_51\\\\ioserver8-bond0\\\\storage\\\\dev_mapper.txt', 'folder-1\\\\SR159360_ddn_showall_20210222-13_54_51.tar\\\\SR159360_ddn_showall_20210222-13_54_51\\\\ioserver8-bond0\\\\storage\\\\dev_sfa.txt', 'folder-1\\\\SR159360_ddn_showall_20210222-13_54_51.tar\\\\SR159360_ddn_showall_20210222-13_54_51\\\\ioserver8-bond0\\\\storage\\\\fdisk.txt', 'folder-1\\\\SR159360_ddn_showall_20210222-13_54_51.tar\\\\SR159360_ddn_showall_20210222-13_54_51\\\\ioserver8-bond0\\\\storage\\\\iostat.txt', 'folder-1\\\\SR159360_ddn_showall_20210222-13_54_51.tar\\\\SR159360_ddn_showall_20210222-13_54_51\\\\ioserver8-bond0\\\\storage\\\\lsblk.txt', 'folder-1\\\\SR159360_ddn_showall_20210222-13_54_51.tar\\\\SR159360_ddn_showall_20210222-13_54_51\\\\ioserver8-bond0\\\\storage\\\\lspci_vv.txt', 'folder-1\\\\SR159360_ddn_showall_20210222-13_54_51.tar\\\\SR159360_ddn_showall_20210222-13_54_51\\\\ioserver8-bond0\\\\storage\\\\lsscsi_l.txt', 'folder-1\\\\SR159360_ddn_showall_20210222-13_54_51.tar\\\\SR159360_ddn_showall_20210222-13_54_51\\\\ioserver8-bond0\\\\storage\\\\multipath_ll.txt', 'folder-1\\\\SR159360_ddn_showall_20210222-13_54_51.tar\\\\SR159360_ddn_showall_20210222-13_54_51\\\\ioserver8-bond0\\\\storage\\\\srp_sg_tablesize.txt', 'folder-1\\\\SR159360_ddn_showall_20210222-13_54_51.tar\\\\SR159360_ddn_showall_20210222-13_54_51\\\\showall-meta\\\\cmdline_args.txt', 'folder-1\\\\SR159360_ddn_showall_20210222-13_54_51.tar\\\\SR159360_ddn_showall_20210222-13_54_51\\\\showall-meta\\\\completed_steps.txt', 'folder-1\\\\SR159360_ddn_showall_20210222-13_54_51.tar\\\\SR159360_ddn_showall_20210222-13_54_51\\\\showall-meta\\\\nodes_available.txt', 'folder-1\\\\SR159360_ddn_showall_20210222-13_54_51.tar\\\\SR159360_ddn_showall_20210222-13_54_51\\\\showall-meta\\\\nodes_duplicated.txt', 'folder-1\\\\SR159360_ddn_showall_20210222-13_54_51.tar\\\\SR159360_ddn_showall_20210222-13_54_51\\\\showall-meta\\\\nodes_unavailable.txt', 'folder-1\\\\SR159360_ddn_showall_20210222-13_54_51.tar\\\\SR159360_ddn_showall_20210222-13_54_51\\\\showall-meta\\\\nodes_unresolved.txt', 'folder-1\\\\SR170158_ddn_showall_20210902-13_20_38.tar\\\\SR170158_ddn_showall_20210902-13_20_38\\\\ioserver1-bond0\\\\opa\\\\opahfirev.txt', 'folder-1\\\\SR170158_ddn_showall_20210902-13_20_38.tar\\\\SR170158_ddn_showall_20210902-13_20_38\\\\ioserver1-bond0\\\\opa\\\\opareport.txt', 'folder-1\\\\SR170158_ddn_showall_20210902-13_20_38.tar\\\\SR170158_ddn_showall_20210902-13_20_38\\\\ioserver1-bond0\\\\opa\\\\opa_first_switch_hwvpd.txt', 'folder-1\\\\SR170158_ddn_showall_20210902-13_20_38.tar\\\\SR170158_ddn_showall_20210902-13_20_38\\\\ioserver1-bond0\\\\opa\\\\opa_first_switch_info.txt', 'folder-1\\\\SR170158_ddn_showall_20210902-13_20_38.tar\\\\SR170158_ddn_showall_20210902-13_20_38\\\\ioserver1-bond0\\\\opa\\\\opa_hfi1_eprom_v_b.txt', 'folder-1\\\\SR170158_ddn_showall_20210902-13_20_38.tar\\\\SR170158_ddn_showall_20210902-13_20_38\\\\ioserver1-bond0\\\\opa\\\\opa_hfi1_eprom_v_o.txt', 'folder-1\\\\SR170158_ddn_showall_20210902-13_20_38.tar\\\\SR170158_ddn_showall_20210902-13_20_38\\\\ioserver1-bond0\\\\opa\\\\opa_info.txt', 'folder-1\\\\SR170158_ddn_showall_20210902-13_20_38.tar\\\\SR170158_ddn_showall_20210902-13_20_38\\\\ioserver1-bond0\\\\opa\\\\opa_info_info.txt', 'folder-1\\\\SR170158_ddn_showall_20210902-13_20_38.tar\\\\SR170158_ddn_showall_20210902-13_20_38\\\\ioserver1-bond0\\\\opa\\\\opa_info_stats.txt', 'folder-1\\\\SR170158_ddn_showall_20210902-13_20_38.tar\\\\SR170158_ddn_showall_20210902-13_20_38\\\\ioserver1-bond0\\\\opa\\\\opa_osd_dump.txt']\n"
     ]
    }
   ],
   "source": [
    "import os\n",
    "txt_file = []\n",
    "for root, dirs, files in os.walk(\"folder-1\"):\n",
    "    for file in files:\n",
    "        if file.endswith(\".txt\"):\n",
    "            file_path = os.path.join(root, file)\n",
    "            txt_file.append(file_path)\n",
    "print(txt_file)"
   ]
  },
  {
   "cell_type": "markdown",
   "id": "5a1fcb50-5381-4bf1-a083-2133bd50576a",
   "metadata": {},
   "source": [
    "# 2. .pdf"
   ]
  },
  {
   "cell_type": "code",
   "execution_count": null,
   "id": "c1cde933-75f8-4b3b-adde-7e4f8e679475",
   "metadata": {},
   "outputs": [],
   "source": [
    "import os\n",
    "pdf_file = []\n",
    "for root, dirs, files in os.walk(\"folder-1\"):\n",
    "    for file in files:\n",
    "        if file.endswith(\".pdf\"):\n",
    "            file_path = os.path.join(root, file)\n",
    "            pdf_file.append(file_path)\n",
    "print(pdf_file)"
   ]
  },
  {
   "cell_type": "markdown",
   "id": "7530c943-fd6c-480b-87ef-5a28ee213685",
   "metadata": {},
   "source": [
    "# 3. .pix"
   ]
  },
  {
   "cell_type": "code",
   "execution_count": null,
   "id": "4ea128d1-de8e-423f-a0a5-1a6660a8992b",
   "metadata": {},
   "outputs": [],
   "source": [
    "import os\n",
    "pix_file = []\n",
    "for root, dirs, files in os.walk(\"folder-1\"):\n",
    "    for file in files:\n",
    "        if file.endswith(\".pix\"):\n",
    "            file_path = os.path.join(root, file)\n",
    "            pix_file.append(file_path)\n",
    "print(pix_file)"
   ]
  },
  {
   "cell_type": "markdown",
   "id": "7490b057-add8-4e7c-8525-18eb7b87246d",
   "metadata": {},
   "source": [
    "# 4. .cfg"
   ]
  },
  {
   "cell_type": "code",
   "execution_count": null,
   "id": "55f14e99-9b94-416e-ada0-87f9dc48f344",
   "metadata": {},
   "outputs": [],
   "source": [
    "import os\n",
    "cfg_file = []\n",
    "for root, dirs, files in os.walk(\"folder-1\"):\n",
    "    for file in files:\n",
    "        if file.endswith(\".cfg\"):\n",
    "            file_path = os.path.join(root, file)\n",
    "            cfg_file.append(file_path)\n",
    "print(cfg_file)"
   ]
  },
  {
   "cell_type": "markdown",
   "id": "60b0cb95-88e7-41db-b018-a831cfe1b396",
   "metadata": {},
   "source": [
    "# 5. .js"
   ]
  },
  {
   "cell_type": "code",
   "execution_count": null,
   "id": "e8a98aba-993c-4e01-b2f1-5d9b2cde7e9f",
   "metadata": {},
   "outputs": [],
   "source": [
    "import os\n",
    "js_file = []\n",
    "for root, dirs, files in os.walk(\"folder-1\"):\n",
    "    for file in files:\n",
    "        if file.endswith(\".js\"):\n",
    "            file_path = os.path.join(root, file)\n",
    "            js_file.append(file_path)\n",
    "print(js_file)"
   ]
  },
  {
   "cell_type": "markdown",
   "id": "326799b4-23d8-4dab-b361-629951c98a22",
   "metadata": {},
   "source": [
    "# 6. .log"
   ]
  },
  {
   "cell_type": "code",
   "execution_count": null,
   "id": "b43dffb9-0e33-4c44-a4d3-ebfb873c198a",
   "metadata": {},
   "outputs": [],
   "source": [
    "import os\n",
    "log_file = []\n",
    "for root, dirs, files in os.walk(\"folder-1\"):\n",
    "    for file in files:\n",
    "        if file.endswith(\".log\"):\n",
    "            file_path = os.path.join(root, file)\n",
    "            log_file.append(file_path)\n",
    "print(log_file)"
   ]
  },
  {
   "cell_type": "markdown",
   "id": "787a1af2-fddc-491c-9cdc-961fbb304ed7",
   "metadata": {},
   "source": [
    "# 7. .xlxs"
   ]
  },
  {
   "cell_type": "code",
   "execution_count": null,
   "id": "571f0f87-7f6d-4dfe-8a60-697c173e8eb8",
   "metadata": {},
   "outputs": [],
   "source": [
    "import os\n",
    "xlsx_file = []\n",
    "for root, dirs, files in os.walk(\"folder-1\"):\n",
    "    for file in files:\n",
    "        if file.endswith(\".xlsx\"):\n",
    "            file_path = os.path.join(root, file)\n",
    "            xlsx_file.append(file_path)\n",
    "print(xlsx_file)"
   ]
  },
  {
   "cell_type": "markdown",
   "id": "3c554179-5569-4bc6-9525-de8a882c753f",
   "metadata": {},
   "source": [
    "# 8. .zip"
   ]
  },
  {
   "cell_type": "code",
   "execution_count": null,
   "id": "162c3bd5-f513-412a-88a0-bddbfab53179",
   "metadata": {},
   "outputs": [],
   "source": [
    "import os\n",
    "zip_file = []\n",
    "for root, dirs, files in os.walk(\"folder-1\"):\n",
    "    for file in files:\n",
    "        if file.endswith(\".zip\"):\n",
    "            file_path = os.path.join(root, file)\n",
    "            zip_file.append(file_path)\n",
    "print(zip_file)"
   ]
  },
  {
   "cell_type": "markdown",
   "id": "63215719-2e9b-43ac-8546-79c93d69c128",
   "metadata": {},
   "source": [
    "# 9. .jpg"
   ]
  },
  {
   "cell_type": "code",
   "execution_count": null,
   "id": "c6220645-e352-458d-8456-141d370b775b",
   "metadata": {},
   "outputs": [],
   "source": [
    "import os\n",
    "jpg_file = []\n",
    "for root, dirs, files in os.walk(\"folder-1\"):\n",
    "    for file in files:\n",
    "        if file.endswith(\".jpg\"):\n",
    "            file_path = os.path.join(root, file)\n",
    "            jpg_file.append(file_path)\n",
    "print(jpg_file)"
   ]
  },
  {
   "cell_type": "markdown",
   "id": "105b75cf-5b22-49f5-b82d-a782f7dee0cc",
   "metadata": {},
   "source": [
    "# 10. .bk"
   ]
  },
  {
   "cell_type": "code",
   "execution_count": null,
   "id": "46c0b708-fe89-4340-9045-e4aa7b18777b",
   "metadata": {},
   "outputs": [],
   "source": [
    "import os\n",
    "bk_file = []\n",
    "for root, dirs, files in os.walk(\"folder-1\"):\n",
    "    for file in files:\n",
    "        if file.endswith(\".bk\"):\n",
    "            file_path = os.path.join(root, file)\n",
    "            bk_file.append(file_path)\n",
    "print(bk_file)"
   ]
  },
  {
   "cell_type": "markdown",
   "id": "69f693be-eeea-4505-9d9d-e0fe4f229d69",
   "metadata": {},
   "source": [
    "# 11. .sql"
   ]
  },
  {
   "cell_type": "code",
   "execution_count": null,
   "id": "4ffc7281-1878-43c7-b3f3-29674ada6a0b",
   "metadata": {},
   "outputs": [],
   "source": [
    "import os\n",
    "sql_file = []\n",
    "for root, dirs, files in os.walk(\"folder-1\"):\n",
    "    for file in files:\n",
    "        if file.endswith(\".sql\"):\n",
    "            file_path = os.path.join(root, file)\n",
    "            sql_file.append(file_path)\n",
    "print(sql_file)"
   ]
  },
  {
   "cell_type": "markdown",
   "id": "b59e6eb6-ace3-4b9e-b6f9-698222825411",
   "metadata": {},
   "source": [
    "# 12. .json"
   ]
  },
  {
   "cell_type": "code",
   "execution_count": null,
   "id": "3df3acae-6048-4ece-b0c5-02328bd81077",
   "metadata": {},
   "outputs": [],
   "source": [
    "import os\n",
    "json_file = []\n",
    "for root, dirs, files in os.walk(\"folder-1\"):\n",
    "    for file in files:\n",
    "        if file.endswith(\".json\"):\n",
    "            file_path = os.path.join(root, file)\n",
    "            json_file.append(file_path)\n",
    "print(json_file)"
   ]
  },
  {
   "cell_type": "markdown",
   "id": "3cf75a49-6453-493f-a782-349ae69501a9",
   "metadata": {},
   "source": [
    "# 13. .conf"
   ]
  },
  {
   "cell_type": "code",
   "execution_count": null,
   "id": "fc144c9e-a868-4150-83c8-ace5b0598e6e",
   "metadata": {},
   "outputs": [],
   "source": [
    "import os\n",
    "conf_file = []\n",
    "for root, dirs, files in os.walk(\"folder-1\"):\n",
    "    for file in files:\n",
    "        if file.endswith(\".conf\"):\n",
    "            file_path = os.path.join(root, file)\n",
    "            conf_file.append(file_path)\n",
    "print(conf_file)"
   ]
  },
  {
   "cell_type": "markdown",
   "id": "051cdbf4-8380-43c2-97d2-43654b44c73f",
   "metadata": {},
   "source": [
    "## Data Cleaning"
   ]
  },
  {
   "cell_type": "markdown",
   "id": "26732c38-5fc8-4da0-8376-294f47a61cf8",
   "metadata": {},
   "source": [
    "# 1. Handling Missing Values"
   ]
  },
  {
   "cell_type": "code",
   "execution_count": null,
   "id": "73c92d27-b4fa-44c8-92e4-cc265fec2e66",
   "metadata": {},
   "outputs": [],
   "source": [
    "import pandas as pd\n",
    "\n",
    "total_null_count = 0\n",
    "\n",
    "for txt in txt_file:\n",
    "    try:\n",
    "        df = pd.read_fwf(txt)\n",
    "        #df = df.dropna()\n",
    "        total_null_count += df.isnull().sum().sum()\n",
    "    except (pd.errors.EmptyDataError, FileNotFoundError) as e:\n",
    "        print(f\"Skipping file {txt} due to error: {e}\")\n",
    "\n",
    "print(total_null_count)"
   ]
  },
  {
   "cell_type": "code",
   "execution_count": null,
   "id": "4dd623bf-0dd2-42c5-85c4-232a00d8e13b",
   "metadata": {},
   "outputs": [],
   "source": [
    "import pandas as pd\n",
    "import os\n",
    "\n",
    "text_file_types = [txt_file, cfg_file, js_file, log_file, sql_file, json_file, conf_file]\n",
    "total_null_count = 0\n",
    "\n",
    "for file_type in text_file_types:\n",
    "\n",
    "    for file in file_type:\n",
    "        try:\n",
    "            if file_type == json_file:\n",
    "                df = pd.read_json(file)\n",
    "            else:\n",
    "                df = pd.read_fwf(file)\n",
    "                \n",
    "            total_null_count += df.isnull().sum().sum()\n",
    "        except (pd.errors.EmptyDataError, FileNotFoundError) as e:\n",
    "            print(f\"Skipping file {file} due to error: {e}\")\n",
    "\n",
    "print(total_null_count)\n"
   ]
  },
  {
   "cell_type": "markdown",
   "id": "fdb9c66d-8a38-4d69-87d0-05d45439c421",
   "metadata": {},
   "source": [
    "# Testing NLP Techniques"
   ]
  },
  {
   "cell_type": "code",
   "execution_count": null,
   "id": "95fe5223-0be4-480a-81a0-5ca48c909a33",
   "metadata": {},
   "outputs": [],
   "source": [
    "import nltk\n",
    "from nltk.tokenize import word_tokenize\n",
    "from nltk.corpus import stopwords\n",
    "from nltk.stem import WordNetLemmatizer\n",
    "import os\n",
    "\n",
    "nltk.download('punkt')\n",
    "nltk.download('stopwords')\n",
    "nltk.download('wordnet')\n",
    "\n",
    "def tokenize_text_lemmatization(file_path):\n",
    "    with open(file_path, 'r', encoding='utf-8') as file:\n",
    "        text = file.read()\n",
    "\n",
    "    tokens = word_tokenize(text)\n",
    "\n",
    "    stop_words = set(stopwords.words('english'))\n",
    "    tokens = [token.lower() for token in tokens if token.isalpha() and token.lower() not in stop_words]\n",
    "\n",
    "    lemmatizer = WordNetLemmatizer()\n",
    "    tokens = [lemmatizer.lemmatize(token) for token in tokens]\n",
    "\n",
    "    return tokens\n",
    "\n",
    "tokenized_texts_lemmatization = [tokenize_text_lemmatization(file_path) for file_path in txt_file]\n",
    "print(tokenized_texts_lemmatization)"
   ]
  },
  {
   "cell_type": "markdown",
   "id": "8ceb8c30-c699-4ef5-b981-09299e4b4067",
   "metadata": {},
   "source": [
    "# TF-IDF VECTORIZATION"
   ]
  },
  {
   "cell_type": "code",
   "execution_count": 16,
   "id": "cd8202bd-6e79-4201-b4c2-c649165ab44b",
   "metadata": {},
   "outputs": [
    {
     "name": "stdout",
     "output_type": "stream",
     "text": [
      "     abc  abcd  aborted  abovetargetinstlist   ac  acc  accept  access  \\\n",
      "0    0.0   0.0      0.0                  0.0  0.0  0.0     0.0     0.0   \n",
      "1    0.0   0.0      0.0                  0.0  0.0  0.0     0.0     0.0   \n",
      "2    0.0   0.0      0.0                  0.0  0.0  0.0     0.0     0.0   \n",
      "3    0.0   0.0      0.0                  0.0  0.0  0.0     0.0     0.0   \n",
      "4    0.0   0.0      0.0                  0.0  0.0  0.0     0.0     0.0   \n",
      "..   ...   ...      ...                  ...  ...  ...     ...     ...   \n",
      "525  0.0   0.0      0.0                  0.0  0.0  0.0     0.0     0.0   \n",
      "526  0.0   0.0      0.0                  0.0  0.0  0.0     0.0     0.0   \n",
      "527  0.0   0.0      0.0                  0.0  0.0  0.0     0.0     0.0   \n",
      "528  0.0   0.0      0.0                  0.0  0.0  0.0     0.0     0.0   \n",
      "529  0.0   0.0      0.0                  0.0  0.0  0.0     0.0     0.0   \n",
      "\n",
      "     accounting  achieved  ...  writebehindthreshold  writecachethreshold  \\\n",
      "0           0.0       0.0  ...                   0.0                  0.0   \n",
      "1           0.0       0.0  ...                   0.0                  0.0   \n",
      "2           0.0       0.0  ...                   0.0                  0.0   \n",
      "3           0.0       0.0  ...                   0.0                  0.0   \n",
      "4           0.0       0.0  ...                   0.0                  0.0   \n",
      "..          ...       ...  ...                   ...                  ...   \n",
      "525         0.0       0.0  ...                   0.0                  0.0   \n",
      "526         0.0       0.0  ...                   0.0                  0.0   \n",
      "527         0.0       0.0  ...                   0.0                  0.0   \n",
      "528         0.0       0.0  ...                   0.0                  0.0   \n",
      "529         0.0       0.0  ...                   0.0                  0.0   \n",
      "\n",
      "     writes  writevsecmode  writing  xeon   xw   ya  yes   µs  \n",
      "0       0.0            0.0      0.0   0.0  0.0  0.0  0.0  0.0  \n",
      "1       0.0            0.0      0.0   0.0  0.0  0.0  0.0  0.0  \n",
      "2       0.0            0.0      0.0   0.0  0.0  0.0  0.0  0.0  \n",
      "3       0.0            0.0      0.0   0.0  0.0  0.0  0.0  0.0  \n",
      "4       0.0            0.0      0.0   0.0  0.0  0.0  0.0  0.0  \n",
      "..      ...            ...      ...   ...  ...  ...  ...  ...  \n",
      "525     0.0            0.0      0.0   0.0  0.0  0.0  0.0  0.0  \n",
      "526     0.0            0.0      0.0   0.0  0.0  0.0  0.0  0.0  \n",
      "527     0.0            0.0      0.0   0.0  0.0  0.0  0.0  0.0  \n",
      "528     0.0            0.0      0.0   0.0  0.0  0.0  0.0  0.0  \n",
      "529     0.0            0.0      0.0   0.0  0.0  0.0  0.0  0.0  \n",
      "\n",
      "[530 rows x 2123 columns]\n"
     ]
    }
   ],
   "source": [
    "from sklearn.feature_extraction.text import TfidfVectorizer\n",
    "\n",
    "# Convert tokenized texts to string for TfidfVectorizer\n",
    "tokenized_texts_str = [' '.join(tokens) for tokens in tokenized_texts_lemmatization]\n",
    "\n",
    "# Create TfidfVectorizer\n",
    "vectorizer = TfidfVectorizer()\n",
    "\n",
    "# Fit and transform the tokenized texts\n",
    "tfidf_matrix = vectorizer.fit_transform(tokenized_texts_str)\n",
    "\n",
    "# Get feature names (terms)\n",
    "feature_names = vectorizer.get_feature_names_out()\n",
    "\n",
    "# Convert the TF-IDF matrix to a dense array for easier manipulation\n",
    "dense_tfidf_matrix = tfidf_matrix.todense()\n",
    "\n",
    "# Create a DataFrame for better visualization (optional)\n",
    "import pandas as pd\n",
    "df_tfidf = pd.DataFrame(dense_tfidf_matrix, columns=feature_names)\n",
    "\n",
    "# Print or use the resulting TF-IDF matrix (df_tfidf or dense_tfidf_matrix)\n",
    "print(df_tfidf)\n"
   ]
  },
  {
   "cell_type": "code",
   "execution_count": null,
   "id": "c218b80b-ed77-4fef-b9d6-ddf072bb23f3",
   "metadata": {},
   "outputs": [],
   "source": []
  }
 ],
 "metadata": {
  "kernelspec": {
   "display_name": "Python 3 (ipykernel)",
   "language": "python",
   "name": "python3"
  },
  "language_info": {
   "codemirror_mode": {
    "name": "ipython",
    "version": 3
   },
   "file_extension": ".py",
   "mimetype": "text/x-python",
   "name": "python",
   "nbconvert_exporter": "python",
   "pygments_lexer": "ipython3",
   "version": "3.11.7"
  }
 },
 "nbformat": 4,
 "nbformat_minor": 5
}
